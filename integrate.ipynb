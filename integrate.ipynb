{
 "cells": [
  {
   "cell_type": "markdown",
   "metadata": {},
   "source": [
    "# Integrate resources to create a drug repurposing hetnet"
   ]
  },
  {
   "cell_type": "code",
   "execution_count": 1,
   "metadata": {
    "collapsed": false
   },
   "outputs": [],
   "source": [
    "import pandas\n",
    "import seaborn\n",
    "\n",
    "import hetio.hetnet\n",
    "import hetio.readwrite\n",
    "import hetio.stats\n",
    "\n",
    "from utils import rawgit, obo_iri"
   ]
  },
  {
   "cell_type": "markdown",
   "metadata": {
    "collapsed": false
   },
   "source": [
    "## Define the metagraph and instantiate the graph"
   ]
  },
  {
   "cell_type": "code",
   "execution_count": 2,
   "metadata": {
    "collapsed": true
   },
   "outputs": [],
   "source": [
    "kind_to_abbev = {\n",
    "    \n",
    "    # metanodes\n",
    "    'Compound': 'C',\n",
    "    'Disease': 'D',\n",
    "    'Gene': 'G',\n",
    "    'Anatomy': 'A',\n",
    "    'Symptom': 'S',\n",
    "    'Side Effect': 'SE',\n",
    "    'Pathway': 'PW',\n",
    "    'Pharmacologic Class': 'PC',\n",
    "    'Biological Process': 'BP',\n",
    "    'Cellular Component': 'CC',\n",
    "    'Molecular Function': 'MF',\n",
    "    \n",
    "    # metaedges\n",
    "    'treats': 't',\n",
    "#     'palliates': 'p',\n",
    "    'binds': 'b',\n",
    "    'expresses': 'e',\n",
    "    'regulates': 'r',\n",
    "    'upregulates': 'u',\n",
    "    'downregulates': 'd',\n",
    "    'interacts': 'i',\n",
    "    'includes': 'i',\n",
    "    'covaries': 'c',\n",
    "    'regulates': 'r',\n",
    "    'participates': 'p',\n",
    "    'resembles': 'r',\n",
    "    'associates': 'a',\n",
    "    'localizes': 'l',\n",
    "    'presents': 'p',\n",
    "    'causes': 'c',\n",
    "}\n",
    "\n",
    "metaedge_tuples = [\n",
    "    ('Compound', 'Disease', 'treats', 'both'),\n",
    "#     ('Compound', 'Disease', 'palliates', 'both'),\n",
    "    ('Compound', 'Gene', 'binds', 'both'),\n",
    "    ('Compound', 'Gene', 'upregulates', 'both'),\n",
    "    ('Compound', 'Gene', 'downregulates', 'both'),\n",
    "    ('Compound', 'Compound', 'resembles', 'both'),\n",
    "    ('Compound', 'Side Effect', 'causes', 'both'),\n",
    "    ('Pharmacologic Class', 'Compound', 'includes', 'both'),\n",
    "    ('Anatomy', 'Gene', 'expresses', 'both'),\n",
    "    ('Anatomy', 'Gene', 'upregulates', 'both'),\n",
    "    ('Anatomy', 'Gene', 'downregulates', 'both'),\n",
    "    ('Gene', 'Gene', 'interacts', 'both'),\n",
    "    ('Gene', 'Gene', 'covaries', 'both'),\n",
    "    ('Gene', 'Gene', 'regulates', 'forward'),\n",
    "    ('Gene', 'Pathway', 'participates', 'both'),\n",
    "    ('Gene', 'Biological Process', 'participates', 'both'),\n",
    "    ('Gene', 'Cellular Component', 'participates', 'both'),\n",
    "    ('Gene', 'Molecular Function', 'participates', 'both'),\n",
    "    ('Disease', 'Disease', 'resembles', 'both'),\n",
    "    ('Disease', 'Gene', 'associates', 'both'),\n",
    "    ('Disease', 'Gene', 'upregulates', 'both'),\n",
    "    ('Disease', 'Gene', 'downregulates', 'both'),\n",
    "    ('Disease', 'Anatomy', 'localizes', 'both'),\n",
    "    ('Disease', 'Symptom', 'presents', 'both'),\n",
    "]\n",
    "metagraph = hetio.hetnet.MetaGraph.from_edge_tuples(metaedge_tuples, kind_to_abbev)\n",
    "graph = hetio.hetnet.Graph(metagraph)"
   ]
  },
  {
   "cell_type": "markdown",
   "metadata": {},
   "source": [
    "## Gene Nodes"
   ]
  },
  {
   "cell_type": "code",
   "execution_count": 3,
   "metadata": {
    "collapsed": false
   },
   "outputs": [
    {
     "data": {
      "text/html": [
       "<div>\n",
       "<table border=\"1\" class=\"dataframe\">\n",
       "  <thead>\n",
       "    <tr style=\"text-align: right;\">\n",
       "      <th></th>\n",
       "      <th>tax_id</th>\n",
       "      <th>GeneID</th>\n",
       "      <th>Symbol</th>\n",
       "      <th>chromosome</th>\n",
       "      <th>map_location</th>\n",
       "      <th>type_of_gene</th>\n",
       "      <th>description</th>\n",
       "    </tr>\n",
       "  </thead>\n",
       "  <tbody>\n",
       "    <tr>\n",
       "      <th>0</th>\n",
       "      <td>9606</td>\n",
       "      <td>1</td>\n",
       "      <td>A1BG</td>\n",
       "      <td>19</td>\n",
       "      <td>19q13.4</td>\n",
       "      <td>protein-coding</td>\n",
       "      <td>alpha-1-B glycoprotein</td>\n",
       "    </tr>\n",
       "    <tr>\n",
       "      <th>1</th>\n",
       "      <td>9606</td>\n",
       "      <td>2</td>\n",
       "      <td>A2M</td>\n",
       "      <td>12</td>\n",
       "      <td>12p13.31</td>\n",
       "      <td>protein-coding</td>\n",
       "      <td>alpha-2-macroglobulin</td>\n",
       "    </tr>\n",
       "  </tbody>\n",
       "</table>\n",
       "</div>"
      ],
      "text/plain": [
       "   tax_id  GeneID Symbol chromosome map_location    type_of_gene  \\\n",
       "0    9606       1   A1BG         19      19q13.4  protein-coding   \n",
       "1    9606       2    A2M         12     12p13.31  protein-coding   \n",
       "\n",
       "              description  \n",
       "0  alpha-1-B glycoprotein  \n",
       "1   alpha-2-macroglobulin  "
      ]
     },
     "execution_count": 3,
     "metadata": {},
     "output_type": "execute_result"
    }
   ],
   "source": [
    "commit = 'a7362748a34211e5df6f2d185bb3246279760546'\n",
    "url = rawgit('dhimmel', 'entrez-gene', commit, 'data/genes-human.tsv')\n",
    "gene_df = pandas.read_table(url)\n",
    "gene_df = gene_df[gene_df.type_of_gene == 'protein-coding']\n",
    "coding_genes = set(gene_df.GeneID)\n",
    "gene_df.head(2)"
   ]
  },
  {
   "cell_type": "code",
   "execution_count": 4,
   "metadata": {
    "collapsed": false
   },
   "outputs": [],
   "source": [
    "for i, row in gene_df.iterrows():\n",
    "    if row.type_of_gene != 'protein-coding':\n",
    "        continue\n",
    "    data = {\n",
    "        'description': row['description'],\n",
    "        'source': 'Entrez Gene',\n",
    "        'url': 'http://identifiers.org/ncbigene/{}'.format(row.GeneID),\n",
    "        'license': 'CC0 1.0',\n",
    "    }\n",
    "    if pandas.notnull(row['chromosome']):\n",
    "        data['chromosome'] = row['chromosome']\n",
    "    graph.add_node(kind = 'Gene', identifier=row.GeneID, name=row.Symbol, data=data)"
   ]
  },
  {
   "cell_type": "markdown",
   "metadata": {},
   "source": [
    "## Disease Nodes"
   ]
  },
  {
   "cell_type": "code",
   "execution_count": 5,
   "metadata": {
    "collapsed": false
   },
   "outputs": [
    {
     "data": {
      "text/html": [
       "<div>\n",
       "<table border=\"1\" class=\"dataframe\">\n",
       "  <thead>\n",
       "    <tr style=\"text-align: right;\">\n",
       "      <th></th>\n",
       "      <th>doid</th>\n",
       "      <th>name</th>\n",
       "      <th>source</th>\n",
       "      <th>pathophysiology</th>\n",
       "    </tr>\n",
       "  </thead>\n",
       "  <tbody>\n",
       "    <tr>\n",
       "      <th>0</th>\n",
       "      <td>DOID:2531</td>\n",
       "      <td>hematologic cancer</td>\n",
       "      <td>DOcancerslim</td>\n",
       "      <td>neoplastic</td>\n",
       "    </tr>\n",
       "    <tr>\n",
       "      <th>1</th>\n",
       "      <td>DOID:1319</td>\n",
       "      <td>brain cancer</td>\n",
       "      <td>DOcancerslim</td>\n",
       "      <td>neoplastic</td>\n",
       "    </tr>\n",
       "  </tbody>\n",
       "</table>\n",
       "</div>"
      ],
      "text/plain": [
       "        doid                name        source pathophysiology\n",
       "0  DOID:2531  hematologic cancer  DOcancerslim      neoplastic\n",
       "1  DOID:1319        brain cancer  DOcancerslim      neoplastic"
      ]
     },
     "execution_count": 5,
     "metadata": {},
     "output_type": "execute_result"
    }
   ],
   "source": [
    "commit = '75050ea2d4f60e745d3f3578ae03560a2cc0e444'\n",
    "url = rawgit('dhimmel', 'disease-ontology', commit, 'data/slim-terms.tsv')\n",
    "disease_df = pandas.read_table(url)\n",
    "disease_df.head(2)"
   ]
  },
  {
   "cell_type": "markdown",
   "metadata": {},
   "source": [
    "## Read rare diseases"
   ]
  },
  {
   "cell_type": "code",
   "execution_count": 6,
   "metadata": {
    "collapsed": true
   },
   "outputs": [],
   "source": [
    "rare_dises = pandas.read_csv(\"data/rare_diseases.tsv\", sep='\\t')"
   ]
  },
  {
   "cell_type": "code",
   "execution_count": 7,
   "metadata": {
    "collapsed": false
   },
   "outputs": [
    {
     "data": {
      "text/html": [
       "<div>\n",
       "<table border=\"1\" class=\"dataframe\">\n",
       "  <thead>\n",
       "    <tr style=\"text-align: right;\">\n",
       "      <th></th>\n",
       "      <th>orpha_id</th>\n",
       "      <th>dise_name</th>\n",
       "    </tr>\n",
       "  </thead>\n",
       "  <tbody>\n",
       "    <tr>\n",
       "      <th>0</th>\n",
       "      <td>ORPHA:100</td>\n",
       "      <td>Ataxia-telangiectasia</td>\n",
       "    </tr>\n",
       "    <tr>\n",
       "      <th>1</th>\n",
       "      <td>ORPHA:100006</td>\n",
       "      <td>ABeta amyloidosis, Dutch type</td>\n",
       "    </tr>\n",
       "  </tbody>\n",
       "</table>\n",
       "</div>"
      ],
      "text/plain": [
       "       orpha_id                      dise_name\n",
       "0     ORPHA:100          Ataxia-telangiectasia\n",
       "1  ORPHA:100006  ABeta amyloidosis, Dutch type"
      ]
     },
     "execution_count": 7,
     "metadata": {},
     "output_type": "execute_result"
    }
   ],
   "source": [
    "rare_dises.head(2)"
   ]
  },
  {
   "cell_type": "code",
   "execution_count": 8,
   "metadata": {
    "collapsed": true
   },
   "outputs": [],
   "source": [
    "disease_df = (disease_df\n",
    "    .append(\n",
    "        (rare_dises\n",
    "            .rename(columns={\"dise_name\": \"name\", \"orpha_id\": \"doid\"})\n",
    "            .assign(source=\"Orphanet\", pathophysiology=\"unknown\")\n",
    "        )\n",
    "    )\n",
    ")"
   ]
  },
  {
   "cell_type": "code",
   "execution_count": 9,
   "metadata": {
    "collapsed": false
   },
   "outputs": [
    {
     "data": {
      "text/html": [
       "<div>\n",
       "<table border=\"1\" class=\"dataframe\">\n",
       "  <thead>\n",
       "    <tr style=\"text-align: right;\">\n",
       "      <th></th>\n",
       "      <th>doid</th>\n",
       "      <th>name</th>\n",
       "      <th>pathophysiology</th>\n",
       "      <th>source</th>\n",
       "    </tr>\n",
       "  </thead>\n",
       "  <tbody>\n",
       "    <tr>\n",
       "      <th>3552</th>\n",
       "      <td>ORPHA:99971</td>\n",
       "      <td>Well-differentiated liposarcoma</td>\n",
       "      <td>unknown</td>\n",
       "      <td>Orphanet</td>\n",
       "    </tr>\n",
       "    <tr>\n",
       "      <th>3553</th>\n",
       "      <td>ORPHA:99977</td>\n",
       "      <td>Squamous cell carcinoma of esophagus</td>\n",
       "      <td>unknown</td>\n",
       "      <td>Orphanet</td>\n",
       "    </tr>\n",
       "    <tr>\n",
       "      <th>3554</th>\n",
       "      <td>ORPHA:99989</td>\n",
       "      <td>Intermediate DEND syndrome</td>\n",
       "      <td>unknown</td>\n",
       "      <td>Orphanet</td>\n",
       "    </tr>\n",
       "  </tbody>\n",
       "</table>\n",
       "</div>"
      ],
      "text/plain": [
       "             doid                                  name pathophysiology  \\\n",
       "3552  ORPHA:99971       Well-differentiated liposarcoma         unknown   \n",
       "3553  ORPHA:99977  Squamous cell carcinoma of esophagus         unknown   \n",
       "3554  ORPHA:99989            Intermediate DEND syndrome         unknown   \n",
       "\n",
       "        source  \n",
       "3552  Orphanet  \n",
       "3553  Orphanet  \n",
       "3554  Orphanet  "
      ]
     },
     "execution_count": 9,
     "metadata": {},
     "output_type": "execute_result"
    }
   ],
   "source": [
    "disease_df.tail(3)"
   ]
  },
  {
   "cell_type": "code",
   "execution_count": 10,
   "metadata": {
    "collapsed": false
   },
   "outputs": [
    {
     "data": {
      "text/plain": [
       "(3692, 4)"
      ]
     },
     "execution_count": 10,
     "metadata": {},
     "output_type": "execute_result"
    }
   ],
   "source": [
    "disease_df.shape"
   ]
  },
  {
   "cell_type": "code",
   "execution_count": 11,
   "metadata": {
    "collapsed": false
   },
   "outputs": [],
   "source": [
    "for i, row in disease_df.iterrows():\n",
    "    data = {\n",
    "        'source': 'Disease Ontology',\n",
    "        'url': obo_iri(row.doid),\n",
    "        'license': 'CC BY 3.0',\n",
    "    }\n",
    "    graph.add_node(kind='Disease', identifier=row.doid, name=row['name'], data=data)"
   ]
  },
  {
   "cell_type": "markdown",
   "metadata": {},
   "source": [
    "## Compound Nodes"
   ]
  },
  {
   "cell_type": "code",
   "execution_count": 12,
   "metadata": {
    "collapsed": false
   },
   "outputs": [
    {
     "data": {
      "text/html": [
       "<div>\n",
       "<table border=\"1\" class=\"dataframe\">\n",
       "  <thead>\n",
       "    <tr style=\"text-align: right;\">\n",
       "      <th></th>\n",
       "      <th>drugbank_id</th>\n",
       "      <th>name</th>\n",
       "      <th>type</th>\n",
       "      <th>groups</th>\n",
       "      <th>atc_codes</th>\n",
       "      <th>categories</th>\n",
       "      <th>inchikey</th>\n",
       "      <th>inchi</th>\n",
       "    </tr>\n",
       "  </thead>\n",
       "  <tbody>\n",
       "    <tr>\n",
       "      <th>0</th>\n",
       "      <td>DB00014</td>\n",
       "      <td>Goserelin</td>\n",
       "      <td>small molecule</td>\n",
       "      <td>approved</td>\n",
       "      <td>L02AE03</td>\n",
       "      <td>NaN</td>\n",
       "      <td>InChIKey=BLCLNMBMMGCOAS-URPVMXJPSA-N</td>\n",
       "      <td>InChI=1S/C59H84N18O14/c1-31(2)22-40(49(82)68-3...</td>\n",
       "    </tr>\n",
       "    <tr>\n",
       "      <th>1</th>\n",
       "      <td>DB00035</td>\n",
       "      <td>Desmopressin</td>\n",
       "      <td>small molecule</td>\n",
       "      <td>approved</td>\n",
       "      <td>H01BA02</td>\n",
       "      <td>Antidiuretic Agents|Hemostatics|Renal Agents</td>\n",
       "      <td>InChIKey=NFLWUMRGJYTJIN-NXBWRCJVSA-N</td>\n",
       "      <td>InChI=1S/C46H64N14O12S2/c47-35(62)15-14-29-40(...</td>\n",
       "    </tr>\n",
       "  </tbody>\n",
       "</table>\n",
       "</div>"
      ],
      "text/plain": [
       "  drugbank_id          name            type    groups atc_codes  \\\n",
       "0     DB00014     Goserelin  small molecule  approved   L02AE03   \n",
       "1     DB00035  Desmopressin  small molecule  approved   H01BA02   \n",
       "\n",
       "                                     categories  \\\n",
       "0                                           NaN   \n",
       "1  Antidiuretic Agents|Hemostatics|Renal Agents   \n",
       "\n",
       "                               inchikey  \\\n",
       "0  InChIKey=BLCLNMBMMGCOAS-URPVMXJPSA-N   \n",
       "1  InChIKey=NFLWUMRGJYTJIN-NXBWRCJVSA-N   \n",
       "\n",
       "                                               inchi  \n",
       "0  InChI=1S/C59H84N18O14/c1-31(2)22-40(49(82)68-3...  \n",
       "1  InChI=1S/C46H64N14O12S2/c47-35(62)15-14-29-40(...  "
      ]
     },
     "execution_count": 12,
     "metadata": {},
     "output_type": "execute_result"
    }
   ],
   "source": [
    "commit = '3e87872db5fca5ac427ce27464ab945c0ceb4ec6'\n",
    "url = rawgit('dhimmel', 'drugbank', commit, 'data/drugbank-slim.tsv')\n",
    "compound_df = pandas.read_table(url)\n",
    "compound_df.head(2)"
   ]
  },
  {
   "cell_type": "code",
   "execution_count": 13,
   "metadata": {
    "collapsed": false
   },
   "outputs": [],
   "source": [
    "for i, row in compound_df.iterrows():\n",
    "    url = 'http://www.drugbank.ca/drugs/' + row.drugbank_id\n",
    "    data = {\n",
    "        'source': 'DrugBank',\n",
    "        'inchikey': row.inchikey,\n",
    "        'inchi': row.inchi, 'url': url,\n",
    "        'license': 'CC BY-NC 4.0',\n",
    "    }\n",
    "    graph.add_node(kind='Compound', identifier=row.drugbank_id, name=row['name'], data=data)"
   ]
  },
  {
   "cell_type": "markdown",
   "metadata": {},
   "source": [
    "## Anatomy nodes"
   ]
  },
  {
   "cell_type": "code",
   "execution_count": 14,
   "metadata": {
    "collapsed": false
   },
   "outputs": [
    {
     "data": {
      "text/html": [
       "<div>\n",
       "<table border=\"1\" class=\"dataframe\">\n",
       "  <thead>\n",
       "    <tr style=\"text-align: right;\">\n",
       "      <th></th>\n",
       "      <th>uberon_id</th>\n",
       "      <th>uberon_name</th>\n",
       "      <th>mesh_id</th>\n",
       "      <th>mesh_name</th>\n",
       "      <th>bto_id</th>\n",
       "    </tr>\n",
       "  </thead>\n",
       "  <tbody>\n",
       "    <tr>\n",
       "      <th>0</th>\n",
       "      <td>UBERON:0000002</td>\n",
       "      <td>uterine cervix</td>\n",
       "      <td>D002584</td>\n",
       "      <td>Cervix Uteri</td>\n",
       "      <td>BTO:0001421</td>\n",
       "    </tr>\n",
       "    <tr>\n",
       "      <th>1</th>\n",
       "      <td>UBERON:0000004</td>\n",
       "      <td>nose</td>\n",
       "      <td>D009666</td>\n",
       "      <td>Nose</td>\n",
       "      <td>BTO:0000840</td>\n",
       "    </tr>\n",
       "  </tbody>\n",
       "</table>\n",
       "</div>"
      ],
      "text/plain": [
       "        uberon_id     uberon_name  mesh_id     mesh_name       bto_id\n",
       "0  UBERON:0000002  uterine cervix  D002584  Cervix Uteri  BTO:0001421\n",
       "1  UBERON:0000004            nose  D009666          Nose  BTO:0000840"
      ]
     },
     "execution_count": 14,
     "metadata": {},
     "output_type": "execute_result"
    }
   ],
   "source": [
    "commit = '134f23479186abba03ba340fc6dc90e16c781920'\n",
    "url = rawgit('dhimmel', 'uberon', commit, 'data/hetio-slim.tsv')\n",
    "uberon_df = pandas.read_table(url)\n",
    "uberon_df.head(2)"
   ]
  },
  {
   "cell_type": "code",
   "execution_count": 15,
   "metadata": {
    "collapsed": true
   },
   "outputs": [],
   "source": [
    "for i, row in uberon_df.iterrows():\n",
    "    data = {\n",
    "        'source': 'Uberon',\n",
    "        'url': obo_iri(row['uberon_id']),\n",
    "        'license': 'CC BY 3.0',\n",
    "    }\n",
    "    for xref in 'mesh_id', 'bto_id':\n",
    "        if pandas.notnull(row[xref]):\n",
    "            data[xref] = row[xref]\n",
    "    graph.add_node(kind='Anatomy', identifier=row['uberon_id'], name=row['uberon_name'], data=data)"
   ]
  },
  {
   "cell_type": "markdown",
   "metadata": {},
   "source": [
    "## Symptom Nodes"
   ]
  },
  {
   "cell_type": "code",
   "execution_count": 16,
   "metadata": {
    "collapsed": false
   },
   "outputs": [
    {
     "data": {
      "text/html": [
       "<div>\n",
       "<table border=\"1\" class=\"dataframe\">\n",
       "  <thead>\n",
       "    <tr style=\"text-align: right;\">\n",
       "      <th></th>\n",
       "      <th>mesh_id</th>\n",
       "      <th>mesh_name</th>\n",
       "      <th>in_hsdn</th>\n",
       "    </tr>\n",
       "  </thead>\n",
       "  <tbody>\n",
       "    <tr>\n",
       "      <th>0</th>\n",
       "      <td>D000006</td>\n",
       "      <td>Abdomen, Acute</td>\n",
       "      <td>1</td>\n",
       "    </tr>\n",
       "    <tr>\n",
       "      <th>1</th>\n",
       "      <td>D000270</td>\n",
       "      <td>Adie Syndrome</td>\n",
       "      <td>0</td>\n",
       "    </tr>\n",
       "  </tbody>\n",
       "</table>\n",
       "</div>"
      ],
      "text/plain": [
       "   mesh_id       mesh_name  in_hsdn\n",
       "0  D000006  Abdomen, Acute        1\n",
       "1  D000270   Adie Syndrome        0"
      ]
     },
     "execution_count": 16,
     "metadata": {},
     "output_type": "execute_result"
    }
   ],
   "source": [
    "commit = 'a7036a37302973b15ab949aab4056d9bc062910e'\n",
    "url = rawgit('dhimmel', 'mesh', commit, 'data/symptoms.tsv')\n",
    "symptom_df = pandas.read_table(url)\n",
    "symptom_df.head(2)"
   ]
  },
  {
   "cell_type": "code",
   "execution_count": 17,
   "metadata": {
    "collapsed": false
   },
   "outputs": [],
   "source": [
    "for i, row in symptom_df.iterrows():\n",
    "    url = 'http://identifiers.org/mesh/{}'.format(row.mesh_id)\n",
    "    data = {\n",
    "        'source': 'MeSH',\n",
    "        'url': url,\n",
    "        'license': 'CC0 1.0',\n",
    "    }\n",
    "    graph.add_node(kind='Symptom', identifier=row.mesh_id, name=row.mesh_name, data=data)"
   ]
  },
  {
   "cell_type": "markdown",
   "metadata": {},
   "source": [
    "## Pathway Nodes and edges"
   ]
  },
  {
   "cell_type": "code",
   "execution_count": 18,
   "metadata": {
    "collapsed": false
   },
   "outputs": [
    {
     "data": {
      "text/html": [
       "<div>\n",
       "<table border=\"1\" class=\"dataframe\">\n",
       "  <thead>\n",
       "    <tr style=\"text-align: right;\">\n",
       "      <th></th>\n",
       "      <th>identifier</th>\n",
       "      <th>name</th>\n",
       "      <th>url</th>\n",
       "      <th>n_genes</th>\n",
       "      <th>n_coding_genes</th>\n",
       "      <th>source</th>\n",
       "      <th>license</th>\n",
       "      <th>genes</th>\n",
       "      <th>coding_genes</th>\n",
       "    </tr>\n",
       "  </thead>\n",
       "  <tbody>\n",
       "    <tr>\n",
       "      <th>1860</th>\n",
       "      <td>WP80_r68938</td>\n",
       "      <td>Nucleotide GPCRs</td>\n",
       "      <td>http://www.wikipathways.org/instance/WP80_r68938</td>\n",
       "      <td>11</td>\n",
       "      <td>11</td>\n",
       "      <td>WikiPathways</td>\n",
       "      <td>CC BY 3.0</td>\n",
       "      <td>10161|1241|134|135|136|140|2846|5028|5029|5030...</td>\n",
       "      <td>10161|1241|134|135|136|140|2846|5028|5029|5030...</td>\n",
       "    </tr>\n",
       "    <tr>\n",
       "      <th>1861</th>\n",
       "      <td>WP98_r72088</td>\n",
       "      <td>Prostaglandin Synthesis and Regulation</td>\n",
       "      <td>http://www.wikipathways.org/instance/WP98_r72088</td>\n",
       "      <td>30</td>\n",
       "      <td>30</td>\n",
       "      <td>WikiPathways</td>\n",
       "      <td>CC BY 3.0</td>\n",
       "      <td>1583|1906|1909|1910|301|302|306|307|308|309|32...</td>\n",
       "      <td>1583|1906|1909|1910|301|302|306|307|308|309|32...</td>\n",
       "    </tr>\n",
       "  </tbody>\n",
       "</table>\n",
       "</div>"
      ],
      "text/plain": [
       "       identifier                                    name  \\\n",
       "1860  WP80_r68938                        Nucleotide GPCRs   \n",
       "1861  WP98_r72088  Prostaglandin Synthesis and Regulation   \n",
       "\n",
       "                                                   url  n_genes  \\\n",
       "1860  http://www.wikipathways.org/instance/WP80_r68938       11   \n",
       "1861  http://www.wikipathways.org/instance/WP98_r72088       30   \n",
       "\n",
       "      n_coding_genes        source    license  \\\n",
       "1860              11  WikiPathways  CC BY 3.0   \n",
       "1861              30  WikiPathways  CC BY 3.0   \n",
       "\n",
       "                                                  genes  \\\n",
       "1860  10161|1241|134|135|136|140|2846|5028|5029|5030...   \n",
       "1861  1583|1906|1909|1910|301|302|306|307|308|309|32...   \n",
       "\n",
       "                                           coding_genes  \n",
       "1860  10161|1241|134|135|136|140|2846|5028|5029|5030...  \n",
       "1861  1583|1906|1909|1910|301|302|306|307|308|309|32...  "
      ]
     },
     "execution_count": 18,
     "metadata": {},
     "output_type": "execute_result"
    }
   ],
   "source": [
    "commit = '1bd2c68853e38297d20f8f885419ff81fc0608a8'\n",
    "url = rawgit('dhimmel', 'pathways', commit, 'data/pathways.tsv')\n",
    "pathway_df = pandas.read_table(url)\n",
    "pathway_df = pathway_df.query(\"n_coding_genes > 1\")\n",
    "source_map = {\n",
    "    'wikipathways': 'WikiPathways',\n",
    "    'reactome': 'Reactome via Pathway Commons',\n",
    "    'pid': 'PID via Pathway Commons',\n",
    "}\n",
    "pathway_df.source = pathway_df.source.map(source_map)\n",
    "pathway_df.tail(2)"
   ]
  },
  {
   "cell_type": "code",
   "execution_count": 19,
   "metadata": {
    "collapsed": false
   },
   "outputs": [],
   "source": [
    "for i, row in pathway_df.iterrows():\n",
    "    pathway_id = row.identifier\n",
    "    data = {'license': row.license, 'source': row.source}\n",
    "    if pandas.notnull(row.url):\n",
    "        data['url'] = row.url\n",
    "    graph.add_node(kind='Pathway', identifier=pathway_id, name=row['name'], data=data)\n",
    "    for gene in row.coding_genes.split('|'):\n",
    "        gene = int(gene)\n",
    "        source_id = 'Gene', gene\n",
    "        target_id = 'Pathway', pathway_id\n",
    "        edge_data = data.copy()\n",
    "        edge_data['unbiased'] = False\n",
    "        graph.add_edge(source_id, target_id, 'participates', 'both', edge_data)"
   ]
  },
  {
   "cell_type": "markdown",
   "metadata": {},
   "source": [
    "## Pharmacologic Classes"
   ]
  },
  {
   "cell_type": "code",
   "execution_count": 20,
   "metadata": {
    "collapsed": false
   },
   "outputs": [
    {
     "data": {
      "text/html": [
       "<div>\n",
       "<table border=\"1\" class=\"dataframe\">\n",
       "  <thead>\n",
       "    <tr style=\"text-align: right;\">\n",
       "      <th></th>\n",
       "      <th>class_id</th>\n",
       "      <th>class_name</th>\n",
       "      <th>class_source</th>\n",
       "      <th>class_type</th>\n",
       "      <th>url</th>\n",
       "    </tr>\n",
       "  </thead>\n",
       "  <tbody>\n",
       "    <tr>\n",
       "      <th>240</th>\n",
       "      <td>N0000005760</td>\n",
       "      <td>Aminosalicylic Acids</td>\n",
       "      <td>FDA</td>\n",
       "      <td>Chemical/Ingredient</td>\n",
       "      <td>http://purl.bioontology.org/ontology/NDFRT/N00...</td>\n",
       "    </tr>\n",
       "    <tr>\n",
       "      <th>241</th>\n",
       "      <td>N0000005934</td>\n",
       "      <td>Progesterone</td>\n",
       "      <td>FDA</td>\n",
       "      <td>Chemical/Ingredient</td>\n",
       "      <td>http://purl.bioontology.org/ontology/NDFRT/N00...</td>\n",
       "    </tr>\n",
       "  </tbody>\n",
       "</table>\n",
       "</div>"
      ],
      "text/plain": [
       "        class_id            class_name class_source           class_type  \\\n",
       "240  N0000005760  Aminosalicylic Acids          FDA  Chemical/Ingredient   \n",
       "241  N0000005934          Progesterone          FDA  Chemical/Ingredient   \n",
       "\n",
       "                                                   url  \n",
       "240  http://purl.bioontology.org/ontology/NDFRT/N00...  \n",
       "241  http://purl.bioontology.org/ontology/NDFRT/N00...  "
      ]
     },
     "execution_count": 20,
     "metadata": {},
     "output_type": "execute_result"
    }
   ],
   "source": [
    "commit = '0e085ddb6aa42be367c85eba424edea716bebd94'\n",
    "url = rawgit('dhimmel', 'drugcentral', commit, 'rephetio/classes.tsv')\n",
    "class_df = pandas.read_table(url)\n",
    "class_types = {'Physiologic Effect', 'Mechanism of Action', 'Chemical/Ingredient'}\n",
    "class_df = class_df.query(\"class_type in @class_types\")\n",
    "class_df.head(2)"
   ]
  },
  {
   "cell_type": "code",
   "execution_count": 21,
   "metadata": {
    "collapsed": false
   },
   "outputs": [],
   "source": [
    "for row in class_df.itertuples():\n",
    "    data = {\n",
    "        'source': '{} via DrugCentral'.format(row.class_source),\n",
    "        'class_type': row.class_type,\n",
    "        'license': 'CC BY 4.0',\n",
    "        'url': row.url,\n",
    "    }\n",
    "    graph.add_node(kind='Pharmacologic Class', identifier=row.class_id, name=row.class_name, data=data)"
   ]
  },
  {
   "cell_type": "code",
   "execution_count": 22,
   "metadata": {
    "collapsed": false
   },
   "outputs": [
    {
     "data": {
      "text/html": [
       "<div>\n",
       "<table border=\"1\" class=\"dataframe\">\n",
       "  <thead>\n",
       "    <tr style=\"text-align: right;\">\n",
       "      <th></th>\n",
       "      <th>drugbank_id</th>\n",
       "      <th>drugbank_name</th>\n",
       "      <th>class_id</th>\n",
       "      <th>class_name</th>\n",
       "    </tr>\n",
       "  </thead>\n",
       "  <tbody>\n",
       "    <tr>\n",
       "      <th>1</th>\n",
       "      <td>DB00014</td>\n",
       "      <td>Goserelin</td>\n",
       "      <td>N0000175654</td>\n",
       "      <td>Gonadotropin Releasing Hormone Receptor Agonists</td>\n",
       "    </tr>\n",
       "    <tr>\n",
       "      <th>5</th>\n",
       "      <td>DB00035</td>\n",
       "      <td>Desmopressin</td>\n",
       "      <td>N0000175914</td>\n",
       "      <td>Increased Coagulation Factor VIII Activity</td>\n",
       "    </tr>\n",
       "  </tbody>\n",
       "</table>\n",
       "</div>"
      ],
      "text/plain": [
       "  drugbank_id drugbank_name     class_id  \\\n",
       "1     DB00014     Goserelin  N0000175654   \n",
       "5     DB00035  Desmopressin  N0000175914   \n",
       "\n",
       "                                         class_name  \n",
       "1  Gonadotropin Releasing Hormone Receptor Agonists  \n",
       "5        Increased Coagulation Factor VIII Activity  "
      ]
     },
     "execution_count": 22,
     "metadata": {},
     "output_type": "execute_result"
    }
   ],
   "source": [
    "url = rawgit('dhimmel', 'drugcentral', commit, 'rephetio/drug-to-class.tsv')\n",
    "drug_class_df = pandas.read_table(url)\n",
    "drug_class_df = drug_class_df.query(\"class_id in @class_df.class_id\")\n",
    "drug_class_df.head(2)"
   ]
  },
  {
   "cell_type": "code",
   "execution_count": 23,
   "metadata": {
    "collapsed": true
   },
   "outputs": [],
   "source": [
    "for row in drug_class_df.itertuples():\n",
    "    data = {\n",
    "        'source': 'DrugCentral',\n",
    "        'license': 'CC BY 4.0',\n",
    "        'unbiased': False,\n",
    "    }\n",
    "    source_id = 'Pharmacologic Class', row.class_id\n",
    "    target_id = 'Compound', row.drugbank_id\n",
    "    graph.add_edge(source_id, target_id, 'includes', 'both', data)"
   ]
  },
  {
   "cell_type": "markdown",
   "metadata": {},
   "source": [
    "## Gene ontology domains"
   ]
  },
  {
   "cell_type": "code",
   "execution_count": 24,
   "metadata": {
    "collapsed": false
   },
   "outputs": [
    {
     "data": {
      "text/html": [
       "<div>\n",
       "<table border=\"1\" class=\"dataframe\">\n",
       "  <thead>\n",
       "    <tr style=\"text-align: right;\">\n",
       "      <th></th>\n",
       "      <th>go_id</th>\n",
       "      <th>go_name</th>\n",
       "      <th>go_domain</th>\n",
       "      <th>tax_id</th>\n",
       "      <th>annotation_type</th>\n",
       "      <th>size</th>\n",
       "      <th>gene_ids</th>\n",
       "      <th>gene_symbols</th>\n",
       "    </tr>\n",
       "  </thead>\n",
       "  <tbody>\n",
       "    <tr>\n",
       "      <th>0</th>\n",
       "      <td>GO:0000002</td>\n",
       "      <td>mitochondrial genome maintenance</td>\n",
       "      <td>biological_process</td>\n",
       "      <td>9606</td>\n",
       "      <td>inferred</td>\n",
       "      <td>25</td>\n",
       "      <td>142|291|1763|1890|3980|4205|4358|4976|5428|708...</td>\n",
       "      <td>PARP1|SLC25A4|DNA2|TYMP|LIG3|MEF2A|MPV17|OPA1|...</td>\n",
       "    </tr>\n",
       "    <tr>\n",
       "      <th>1</th>\n",
       "      <td>GO:0000003</td>\n",
       "      <td>reproduction</td>\n",
       "      <td>biological_process</td>\n",
       "      <td>9606</td>\n",
       "      <td>inferred</td>\n",
       "      <td>1333</td>\n",
       "      <td>18|49|51|90|91|92|100|109|113|116|117|133|150|...</td>\n",
       "      <td>ABAT|ACR|ACOX1|ACVR1|ACVR1B|ACVR2A|ADA|ADCY3|A...</td>\n",
       "    </tr>\n",
       "  </tbody>\n",
       "</table>\n",
       "</div>"
      ],
      "text/plain": [
       "        go_id                           go_name           go_domain  tax_id  \\\n",
       "0  GO:0000002  mitochondrial genome maintenance  biological_process    9606   \n",
       "1  GO:0000003                      reproduction  biological_process    9606   \n",
       "\n",
       "  annotation_type  size                                           gene_ids  \\\n",
       "0        inferred    25  142|291|1763|1890|3980|4205|4358|4976|5428|708...   \n",
       "1        inferred  1333  18|49|51|90|91|92|100|109|113|116|117|133|150|...   \n",
       "\n",
       "                                        gene_symbols  \n",
       "0  PARP1|SLC25A4|DNA2|TYMP|LIG3|MEF2A|MPV17|OPA1|...  \n",
       "1  ABAT|ACR|ACOX1|ACVR1|ACVR1B|ACVR2A|ADA|ADCY3|A...  "
      ]
     },
     "execution_count": 24,
     "metadata": {},
     "output_type": "execute_result"
    }
   ],
   "source": [
    "commit = '87bab297f55db283e65a7a984607316b409415ae'\n",
    "url = rawgit('dhimmel', 'gene-ontology', commit, 'annotations/taxid_9606/GO_annotations-9606-inferred-allev.tsv')\n",
    "go_df = pandas.read_table(url)\n",
    "go_df.head(2)"
   ]
  },
  {
   "cell_type": "code",
   "execution_count": 25,
   "metadata": {
    "collapsed": true
   },
   "outputs": [],
   "source": [
    "for i, row in go_df.iterrows():\n",
    "    genes = coding_genes & set(map(int, row.gene_ids.split('|')))\n",
    "    if 2 > len(genes) or len(genes) > 1000:\n",
    "        continue\n",
    "    kind = row['go_domain'].replace('_', ' ').title()\n",
    "    data = {'source': 'Gene Ontology', 'url': obo_iri(row.go_id), 'license': 'CC BY 4.0'}\n",
    "    target = graph.add_node(kind=kind, identifier=row['go_id'], name=row['go_name'], data=data)\n",
    "    target_id = target.get_id()\n",
    "    for gene in genes:\n",
    "        source_id = 'Gene', gene\n",
    "        data = {'source': 'NCBI gene2go', 'unbiased': False, 'license': 'CC BY 4.0'}\n",
    "        graph.add_edge(source_id, target_id, 'participates', 'both', data)"
   ]
  },
  {
   "cell_type": "markdown",
   "metadata": {},
   "source": [
    "---"
   ]
  },
  {
   "cell_type": "markdown",
   "metadata": {},
   "source": [
    "## Disease-gene associations from compilation"
   ]
  },
  {
   "cell_type": "code",
   "execution_count": 26,
   "metadata": {
    "collapsed": false
   },
   "outputs": [
    {
     "data": {
      "text/html": [
       "<div>\n",
       "<table border=\"1\" class=\"dataframe\">\n",
       "  <thead>\n",
       "    <tr style=\"text-align: right;\">\n",
       "      <th></th>\n",
       "      <th>doid_id</th>\n",
       "      <th>doid_name</th>\n",
       "      <th>entrez_gene_id</th>\n",
       "      <th>gene_symbol</th>\n",
       "      <th>license</th>\n",
       "      <th>sources</th>\n",
       "    </tr>\n",
       "  </thead>\n",
       "  <tbody>\n",
       "    <tr>\n",
       "      <th>0</th>\n",
       "      <td>DOID:2531</td>\n",
       "      <td>Hematologic cancer</td>\n",
       "      <td>25</td>\n",
       "      <td>ABL1</td>\n",
       "      <td>NaN</td>\n",
       "      <td>DISEASES|DisGeNET</td>\n",
       "    </tr>\n",
       "    <tr>\n",
       "      <th>1</th>\n",
       "      <td>DOID:2531</td>\n",
       "      <td>Hematologic cancer</td>\n",
       "      <td>27</td>\n",
       "      <td>ABL2</td>\n",
       "      <td>ODbL 1.0</td>\n",
       "      <td>DisGeNET</td>\n",
       "    </tr>\n",
       "  </tbody>\n",
       "</table>\n",
       "</div>"
      ],
      "text/plain": [
       "     doid_id           doid_name  entrez_gene_id gene_symbol   license  \\\n",
       "0  DOID:2531  Hematologic cancer              25        ABL1       NaN   \n",
       "1  DOID:2531  Hematologic cancer              27        ABL2  ODbL 1.0   \n",
       "\n",
       "             sources  \n",
       "0  DISEASES|DisGeNET  \n",
       "1           DisGeNET  "
      ]
     },
     "execution_count": 26,
     "metadata": {},
     "output_type": "execute_result"
    }
   ],
   "source": [
    "association_df = pandas.read_table('compile/DaG-association.tsv')\n",
    "association_df.head(2)"
   ]
  },
  {
   "cell_type": "code",
   "execution_count": 27,
   "metadata": {
    "collapsed": true
   },
   "outputs": [],
   "source": [
    "for i, row in association_df.iterrows():\n",
    "    source_id = 'Disease', row.doid_id\n",
    "    target_id = 'Gene', row.entrez_gene_id\n",
    "    sources = sorted(row.sources.split('|'))\n",
    "    data = {'sources': sources, 'unbiased': 'GWAS Catalog' in sources}\n",
    "    if pandas.notnull(row['license']):\n",
    "        data['license'] = row['license']\n",
    "    graph.add_edge(source_id, target_id, 'associates', 'both', data)"
   ]
  },
  {
   "cell_type": "markdown",
   "metadata": {},
   "source": [
    "## Disease-gene differential expression"
   ]
  },
  {
   "cell_type": "code",
   "execution_count": 28,
   "metadata": {
    "collapsed": false
   },
   "outputs": [
    {
     "data": {
      "text/html": [
       "<div>\n",
       "<table border=\"1\" class=\"dataframe\">\n",
       "  <thead>\n",
       "    <tr style=\"text-align: right;\">\n",
       "      <th></th>\n",
       "      <th>slim_id</th>\n",
       "      <th>slim_name</th>\n",
       "      <th>entrez_gene_id</th>\n",
       "      <th>gene_symbol</th>\n",
       "      <th>direction</th>\n",
       "      <th>log2_fold_change</th>\n",
       "      <th>p_adjusted</th>\n",
       "    </tr>\n",
       "  </thead>\n",
       "  <tbody>\n",
       "    <tr>\n",
       "      <th>0</th>\n",
       "      <td>DOID:0050156</td>\n",
       "      <td>idiopathic pulmonary fibrosis</td>\n",
       "      <td>55768</td>\n",
       "      <td>NGLY1</td>\n",
       "      <td>down</td>\n",
       "      <td>-0.004826</td>\n",
       "      <td>0.0</td>\n",
       "    </tr>\n",
       "    <tr>\n",
       "      <th>1</th>\n",
       "      <td>DOID:0050156</td>\n",
       "      <td>idiopathic pulmonary fibrosis</td>\n",
       "      <td>4927</td>\n",
       "      <td>NUP88</td>\n",
       "      <td>down</td>\n",
       "      <td>-0.005913</td>\n",
       "      <td>0.0</td>\n",
       "    </tr>\n",
       "  </tbody>\n",
       "</table>\n",
       "</div>"
      ],
      "text/plain": [
       "        slim_id                      slim_name  entrez_gene_id gene_symbol  \\\n",
       "0  DOID:0050156  idiopathic pulmonary fibrosis           55768       NGLY1   \n",
       "1  DOID:0050156  idiopathic pulmonary fibrosis            4927       NUP88   \n",
       "\n",
       "  direction  log2_fold_change  p_adjusted  \n",
       "0      down         -0.004826         0.0  \n",
       "1      down         -0.005913         0.0  "
      ]
     },
     "execution_count": 28,
     "metadata": {},
     "output_type": "execute_result"
    }
   ],
   "source": [
    "commit = '1a11633b5e0095454453335be82012a9f0f482e4'\n",
    "url = rawgit('dhimmel', 'stargeo', commit, 'data/diffex.tsv')\n",
    "stargeo_df = pandas.read_table(url)\n",
    "# Filter to at most 250 up and 250 down-regulated genes per disease\n",
    "stargeo_df = stargeo_df.groupby(['slim_id', 'direction']).apply(\n",
    "    lambda df: df.nsmallest(250, 'p_adjusted')).reset_index(drop=True)\n",
    "stargeo_df.head(2)"
   ]
  },
  {
   "cell_type": "code",
   "execution_count": 29,
   "metadata": {
    "collapsed": false
   },
   "outputs": [],
   "source": [
    "for row in stargeo_df.itertuples():\n",
    "    source_id = 'Disease', row.slim_id\n",
    "    target_id = 'Gene', row.entrez_gene_id\n",
    "    kind = row.direction + 'regulates'\n",
    "    data = {\n",
    "        'source': 'STARGEO',\n",
    "        'log2_fold_change': round(row.log2_fold_change, 5),\n",
    "        'unbiased': True,\n",
    "        'license': 'CC0 1.0'\n",
    "    }\n",
    "    \n",
    "    try:\n",
    "        graph.add_edge(source_id, target_id, kind, 'both', data)\n",
    "    except AssertionError:\n",
    "        # edge already exists\n",
    "        continue"
   ]
  },
  {
   "cell_type": "markdown",
   "metadata": {},
   "source": [
    "## Chemical Similarity"
   ]
  },
  {
   "cell_type": "code",
   "execution_count": 30,
   "metadata": {
    "collapsed": false
   },
   "outputs": [
    {
     "data": {
      "text/html": [
       "<div>\n",
       "<table border=\"1\" class=\"dataframe\">\n",
       "  <thead>\n",
       "    <tr style=\"text-align: right;\">\n",
       "      <th></th>\n",
       "      <th>compound0</th>\n",
       "      <th>compound1</th>\n",
       "      <th>similarity</th>\n",
       "    </tr>\n",
       "  </thead>\n",
       "  <tbody>\n",
       "    <tr>\n",
       "      <th>1557</th>\n",
       "      <td>DB01489</td>\n",
       "      <td>DB00683</td>\n",
       "      <td>0.5362</td>\n",
       "    </tr>\n",
       "    <tr>\n",
       "      <th>1571</th>\n",
       "      <td>DB01489</td>\n",
       "      <td>DB01567</td>\n",
       "      <td>0.6260</td>\n",
       "    </tr>\n",
       "  </tbody>\n",
       "</table>\n",
       "</div>"
      ],
      "text/plain": [
       "     compound0 compound1  similarity\n",
       "1557   DB01489   DB00683      0.5362\n",
       "1571   DB01489   DB01567      0.6260"
      ]
     },
     "execution_count": 30,
     "metadata": {},
     "output_type": "execute_result"
    }
   ],
   "source": [
    "commit = '3e87872db5fca5ac427ce27464ab945c0ceb4ec6'\n",
    "url = rawgit('dhimmel', 'drugbank', commit, 'data/similarity-slim.tsv.gz')\n",
    "chemical_df = pandas.read_table(url, compression='gzip')\n",
    "chemical_df = chemical_df[chemical_df.similarity >= 0.5]\n",
    "chemical_df.head(2)"
   ]
  },
  {
   "cell_type": "code",
   "execution_count": 31,
   "metadata": {
    "collapsed": false
   },
   "outputs": [],
   "source": [
    "for i, row in chemical_df.iterrows():\n",
    "    source_id = 'Compound', row.compound0\n",
    "    target_id = 'Compound', row.compound1\n",
    "    data = {\n",
    "        'source': 'Dice similarity of ECFPs',\n",
    "        'similarity': round(row.similarity, 4),\n",
    "        'unbiased': True,\n",
    "        'license': 'CC0 1.0',\n",
    "    }\n",
    "    graph.add_edge(source_id, target_id, 'resembles', 'both', data)"
   ]
  },
  {
   "cell_type": "markdown",
   "metadata": {},
   "source": [
    "## MEDLINE cooccurrence data"
   ]
  },
  {
   "cell_type": "code",
   "execution_count": 32,
   "metadata": {
    "collapsed": true
   },
   "outputs": [],
   "source": [
    "medline_data = {\n",
    "    'source': 'MEDLINE cooccurrence',\n",
    "    'unbiased': False,\n",
    "    'license': 'CC0 1.0',\n",
    "}"
   ]
  },
  {
   "cell_type": "markdown",
   "metadata": {},
   "source": [
    "## Symptom edges"
   ]
  },
  {
   "cell_type": "code",
   "execution_count": 33,
   "metadata": {
    "collapsed": false
   },
   "outputs": [
    {
     "data": {
      "text/html": [
       "<div>\n",
       "<table border=\"1\" class=\"dataframe\">\n",
       "  <thead>\n",
       "    <tr style=\"text-align: right;\">\n",
       "      <th></th>\n",
       "      <th>doid_code</th>\n",
       "      <th>doid_name</th>\n",
       "      <th>mesh_id</th>\n",
       "      <th>mesh_name</th>\n",
       "      <th>cooccurrence</th>\n",
       "      <th>expected</th>\n",
       "      <th>enrichment</th>\n",
       "      <th>odds_ratio</th>\n",
       "      <th>p_fisher</th>\n",
       "    </tr>\n",
       "  </thead>\n",
       "  <tbody>\n",
       "    <tr>\n",
       "      <th>0</th>\n",
       "      <td>DOID:10652</td>\n",
       "      <td>Alzheimer's disease</td>\n",
       "      <td>D004314</td>\n",
       "      <td>Down Syndrome</td>\n",
       "      <td>800</td>\n",
       "      <td>35.619601</td>\n",
       "      <td>22.459544</td>\n",
       "      <td>39.918352</td>\n",
       "      <td>0.0</td>\n",
       "    </tr>\n",
       "    <tr>\n",
       "      <th>1</th>\n",
       "      <td>DOID:10652</td>\n",
       "      <td>Alzheimer's disease</td>\n",
       "      <td>D008569</td>\n",
       "      <td>Memory Disorders</td>\n",
       "      <td>1593</td>\n",
       "      <td>76.580532</td>\n",
       "      <td>20.801631</td>\n",
       "      <td>41.885877</td>\n",
       "      <td>0.0</td>\n",
       "    </tr>\n",
       "  </tbody>\n",
       "</table>\n",
       "</div>"
      ],
      "text/plain": [
       "    doid_code            doid_name  mesh_id         mesh_name  cooccurrence  \\\n",
       "0  DOID:10652  Alzheimer's disease  D004314     Down Syndrome           800   \n",
       "1  DOID:10652  Alzheimer's disease  D008569  Memory Disorders          1593   \n",
       "\n",
       "    expected  enrichment  odds_ratio  p_fisher  \n",
       "0  35.619601   22.459544   39.918352       0.0  \n",
       "1  76.580532   20.801631   41.885877       0.0  "
      ]
     },
     "execution_count": 33,
     "metadata": {},
     "output_type": "execute_result"
    }
   ],
   "source": [
    "commit = '60d611892bf387b5b23c5f2e2e3bc472cfce85f3'\n",
    "url = rawgit('dhimmel', 'medline', commit, 'data/disease-symptom-cooccurrence.tsv')\n",
    "disease_symptom_df = pandas.read_table(url)\n",
    "disease_symptom_df = disease_symptom_df[disease_symptom_df.p_fisher < 0.005]\n",
    "disease_symptom_df.head(2)"
   ]
  },
  {
   "cell_type": "code",
   "execution_count": 34,
   "metadata": {
    "collapsed": true
   },
   "outputs": [],
   "source": [
    "for i, row in disease_symptom_df.iterrows():\n",
    "    source_id = 'Disease', row.doid_code\n",
    "    target_id = 'Symptom', row.mesh_id\n",
    "    data = medline_data.copy()\n",
    "    graph.add_edge(source_id, target_id, 'presents', 'both', data)"
   ]
  },
  {
   "cell_type": "markdown",
   "metadata": {},
   "source": [
    "## Disease-localization edges"
   ]
  },
  {
   "cell_type": "code",
   "execution_count": 35,
   "metadata": {
    "collapsed": false
   },
   "outputs": [
    {
     "data": {
      "text/html": [
       "<div>\n",
       "<table border=\"1\" class=\"dataframe\">\n",
       "  <thead>\n",
       "    <tr style=\"text-align: right;\">\n",
       "      <th></th>\n",
       "      <th>doid_code</th>\n",
       "      <th>doid_name</th>\n",
       "      <th>uberon_id</th>\n",
       "      <th>uberon_name</th>\n",
       "      <th>cooccurrence</th>\n",
       "      <th>expected</th>\n",
       "      <th>enrichment</th>\n",
       "      <th>odds_ratio</th>\n",
       "      <th>p_fisher</th>\n",
       "    </tr>\n",
       "  </thead>\n",
       "  <tbody>\n",
       "    <tr>\n",
       "      <th>0</th>\n",
       "      <td>DOID:10652</td>\n",
       "      <td>Alzheimer's disease</td>\n",
       "      <td>UBERON:0000955</td>\n",
       "      <td>brain</td>\n",
       "      <td>11209</td>\n",
       "      <td>1182.634069</td>\n",
       "      <td>9.477995</td>\n",
       "      <td>74.210761</td>\n",
       "      <td>0.000000e+00</td>\n",
       "    </tr>\n",
       "    <tr>\n",
       "      <th>1</th>\n",
       "      <td>DOID:10652</td>\n",
       "      <td>Alzheimer's disease</td>\n",
       "      <td>UBERON:0001890</td>\n",
       "      <td>forebrain</td>\n",
       "      <td>114</td>\n",
       "      <td>7.326350</td>\n",
       "      <td>15.560272</td>\n",
       "      <td>21.733764</td>\n",
       "      <td>5.971023e-99</td>\n",
       "    </tr>\n",
       "  </tbody>\n",
       "</table>\n",
       "</div>"
      ],
      "text/plain": [
       "    doid_code            doid_name       uberon_id uberon_name  cooccurrence  \\\n",
       "0  DOID:10652  Alzheimer's disease  UBERON:0000955       brain         11209   \n",
       "1  DOID:10652  Alzheimer's disease  UBERON:0001890   forebrain           114   \n",
       "\n",
       "      expected  enrichment  odds_ratio      p_fisher  \n",
       "0  1182.634069    9.477995   74.210761  0.000000e+00  \n",
       "1     7.326350   15.560272   21.733764  5.971023e-99  "
      ]
     },
     "execution_count": 35,
     "metadata": {},
     "output_type": "execute_result"
    }
   ],
   "source": [
    "commit = '60d611892bf387b5b23c5f2e2e3bc472cfce85f3'\n",
    "url = rawgit('dhimmel', 'medline', commit, 'data/disease-uberon-cooccurrence.tsv')\n",
    "disease_anatomy_df = pandas.read_table(url)\n",
    "disease_anatomy_df = disease_anatomy_df[disease_anatomy_df.p_fisher < 0.005]\n",
    "disease_anatomy_df = disease_anatomy_df[disease_anatomy_df.uberon_id.isin(uberon_df['uberon_id'])]\n",
    "disease_anatomy_df.head(2)"
   ]
  },
  {
   "cell_type": "code",
   "execution_count": 36,
   "metadata": {
    "collapsed": false
   },
   "outputs": [],
   "source": [
    "for i, row in disease_anatomy_df.iterrows():\n",
    "    source_id = 'Disease', row.doid_code\n",
    "    target_id = 'Anatomy', row.uberon_id\n",
    "    data = medline_data.copy()\n",
    "    graph.add_edge(source_id, target_id, 'localizes', 'both', data)"
   ]
  },
  {
   "cell_type": "markdown",
   "metadata": {},
   "source": [
    "## Disease-disease similarity"
   ]
  },
  {
   "cell_type": "code",
   "execution_count": 37,
   "metadata": {
    "collapsed": false
   },
   "outputs": [
    {
     "data": {
      "text/html": [
       "<div>\n",
       "<table border=\"1\" class=\"dataframe\">\n",
       "  <thead>\n",
       "    <tr style=\"text-align: right;\">\n",
       "      <th></th>\n",
       "      <th>doid_code_0</th>\n",
       "      <th>doid_name_0</th>\n",
       "      <th>doid_code_1</th>\n",
       "      <th>doid_name_1</th>\n",
       "      <th>cooccurrence</th>\n",
       "      <th>expected</th>\n",
       "      <th>enrichment</th>\n",
       "      <th>odds_ratio</th>\n",
       "      <th>p_fisher</th>\n",
       "    </tr>\n",
       "  </thead>\n",
       "  <tbody>\n",
       "    <tr>\n",
       "      <th>0</th>\n",
       "      <td>DOID:10652</td>\n",
       "      <td>Alzheimer's disease</td>\n",
       "      <td>DOID:14330</td>\n",
       "      <td>Parkinson's disease</td>\n",
       "      <td>2760</td>\n",
       "      <td>827.098152</td>\n",
       "      <td>3.336968</td>\n",
       "      <td>3.577398</td>\n",
       "      <td>0.000000e+00</td>\n",
       "    </tr>\n",
       "    <tr>\n",
       "      <th>1</th>\n",
       "      <td>DOID:10652</td>\n",
       "      <td>Alzheimer's disease</td>\n",
       "      <td>DOID:11949</td>\n",
       "      <td>Creutzfeldt-Jakob disease</td>\n",
       "      <td>332</td>\n",
       "      <td>96.723002</td>\n",
       "      <td>3.432482</td>\n",
       "      <td>3.593306</td>\n",
       "      <td>3.377672e-80</td>\n",
       "    </tr>\n",
       "  </tbody>\n",
       "</table>\n",
       "</div>"
      ],
      "text/plain": [
       "  doid_code_0          doid_name_0 doid_code_1                doid_name_1  \\\n",
       "0  DOID:10652  Alzheimer's disease  DOID:14330        Parkinson's disease   \n",
       "1  DOID:10652  Alzheimer's disease  DOID:11949  Creutzfeldt-Jakob disease   \n",
       "\n",
       "   cooccurrence    expected  enrichment  odds_ratio      p_fisher  \n",
       "0          2760  827.098152    3.336968    3.577398  0.000000e+00  \n",
       "1           332   96.723002    3.432482    3.593306  3.377672e-80  "
      ]
     },
     "execution_count": 37,
     "metadata": {},
     "output_type": "execute_result"
    }
   ],
   "source": [
    "commit = '60d611892bf387b5b23c5f2e2e3bc472cfce85f3'\n",
    "url = rawgit('dhimmel', 'medline', commit, 'data/disease-disease-cooccurrence.tsv')\n",
    "disease_similarity_df = pandas.read_table(url)\n",
    "disease_similarity_df = disease_similarity_df[-disease_similarity_df[['doid_code_0', 'doid_code_1']].apply(frozenset, 1).duplicated()]\n",
    "disease_similarity_df = disease_similarity_df[disease_similarity_df.p_fisher < 0.005]\n",
    "disease_similarity_df.head(2)"
   ]
  },
  {
   "cell_type": "code",
   "execution_count": 38,
   "metadata": {
    "collapsed": false
   },
   "outputs": [],
   "source": [
    "for i, row in disease_similarity_df.iterrows():\n",
    "    source_id = 'Disease', row.doid_code_0\n",
    "    target_id = 'Disease', row.doid_code_1\n",
    "    data = medline_data.copy()\n",
    "    graph.add_edge(source_id, target_id, 'resembles', 'both', data)"
   ]
  },
  {
   "cell_type": "markdown",
   "metadata": {},
   "source": [
    "## Anatomy-gene expression presence"
   ]
  },
  {
   "cell_type": "code",
   "execution_count": 39,
   "metadata": {
    "collapsed": false
   },
   "outputs": [
    {
     "data": {
      "text/html": [
       "<div>\n",
       "<table border=\"1\" class=\"dataframe\">\n",
       "  <thead>\n",
       "    <tr style=\"text-align: right;\">\n",
       "      <th></th>\n",
       "      <th>uberon_id</th>\n",
       "      <th>entrez_gene_id</th>\n",
       "      <th>sources</th>\n",
       "      <th>unbiased</th>\n",
       "      <th>license</th>\n",
       "    </tr>\n",
       "  </thead>\n",
       "  <tbody>\n",
       "    <tr>\n",
       "      <th>41138</th>\n",
       "      <td>UBERON:0000002</td>\n",
       "      <td>2</td>\n",
       "      <td>Bgee</td>\n",
       "      <td>1</td>\n",
       "      <td>NaN</td>\n",
       "    </tr>\n",
       "    <tr>\n",
       "      <th>41139</th>\n",
       "      <td>UBERON:0000002</td>\n",
       "      <td>9</td>\n",
       "      <td>Bgee</td>\n",
       "      <td>1</td>\n",
       "      <td>NaN</td>\n",
       "    </tr>\n",
       "  </tbody>\n",
       "</table>\n",
       "</div>"
      ],
      "text/plain": [
       "            uberon_id  entrez_gene_id sources  unbiased license\n",
       "41138  UBERON:0000002               2    Bgee         1     NaN\n",
       "41139  UBERON:0000002               9    Bgee         1     NaN"
      ]
     },
     "execution_count": 39,
     "metadata": {},
     "output_type": "execute_result"
    }
   ],
   "source": [
    "expr_df = pandas.read_table('compile/AeG-expression.tsv.gz', low_memory=False)\n",
    "expr_df = expr_df[expr_df.uberon_id.isin(uberon_df.uberon_id) & expr_df.entrez_gene_id.isin(coding_genes)]\n",
    "expr_df.head(2)"
   ]
  },
  {
   "cell_type": "code",
   "execution_count": 40,
   "metadata": {
    "collapsed": true
   },
   "outputs": [],
   "source": [
    "for i, row in expr_df.iterrows():\n",
    "    source_id = 'Gene', row['entrez_gene_id']\n",
    "    target_id = 'Anatomy', row['uberon_id']\n",
    "    data = {'unbiased': bool(row['unbiased'])}\n",
    "    if pandas.notnull(row['license']):\n",
    "        data['license'] = row['license']\n",
    "    data['sources'] = row['sources'].split('|')\n",
    "    graph.add_edge(source_id, target_id, 'expresses', 'both', data)"
   ]
  },
  {
   "cell_type": "markdown",
   "metadata": {},
   "source": [
    "## Anatomy-gene differential expression"
   ]
  },
  {
   "cell_type": "code",
   "execution_count": 41,
   "metadata": {
    "collapsed": false
   },
   "outputs": [
    {
     "data": {
      "text/html": [
       "<div>\n",
       "<table border=\"1\" class=\"dataframe\">\n",
       "  <thead>\n",
       "    <tr style=\"text-align: right;\">\n",
       "      <th></th>\n",
       "      <th>GeneID</th>\n",
       "      <th>uberon_id</th>\n",
       "      <th>direction</th>\n",
       "    </tr>\n",
       "  </thead>\n",
       "  <tbody>\n",
       "    <tr>\n",
       "      <th>37241</th>\n",
       "      <td>2</td>\n",
       "      <td>UBERON:0000002</td>\n",
       "      <td>upregulates</td>\n",
       "    </tr>\n",
       "    <tr>\n",
       "      <th>37249</th>\n",
       "      <td>18</td>\n",
       "      <td>UBERON:0000002</td>\n",
       "      <td>downregulates</td>\n",
       "    </tr>\n",
       "  </tbody>\n",
       "</table>\n",
       "</div>"
      ],
      "text/plain": [
       "       GeneID       uberon_id      direction\n",
       "37241       2  UBERON:0000002    upregulates\n",
       "37249      18  UBERON:0000002  downregulates"
      ]
     },
     "execution_count": 41,
     "metadata": {},
     "output_type": "execute_result"
    }
   ],
   "source": [
    "commit = '08ba54e83ee8e28dec22b4351d29e23f1d034d30'\n",
    "url = rawgit('dhimmel', 'bgee', commit, 'data/diffex.tsv.gz')\n",
    "diffex_df = pandas.read_table(url, compression='gzip')\n",
    "diffex_df = pandas.melt(diffex_df, id_vars='GeneID', var_name='uberon_id', value_name='direction')\n",
    "diffex_df = diffex_df.query(\"direction != 0\")\n",
    "diffex_df = diffex_df[diffex_df.uberon_id.isin(uberon_df.uberon_id) & diffex_df.GeneID.isin(coding_genes)]\n",
    "diffex_df = diffex_df.replace({'direction': {-1: 'downregulates', 1: 'upregulates'}})\n",
    "diffex_df.head(2)"
   ]
  },
  {
   "cell_type": "code",
   "execution_count": 42,
   "metadata": {
    "collapsed": true
   },
   "outputs": [],
   "source": [
    "for i, row in diffex_df.iterrows():\n",
    "    source_id = 'Gene', row['GeneID']\n",
    "    target_id = 'Anatomy', row['uberon_id']\n",
    "    data = {'source': 'Bgee', 'unbiased': True}\n",
    "    graph.add_edge(source_id, target_id, row['direction'], 'both', data)"
   ]
  },
  {
   "cell_type": "markdown",
   "metadata": {},
   "source": [
    "## Compound bindings"
   ]
  },
  {
   "cell_type": "code",
   "execution_count": 43,
   "metadata": {
    "collapsed": false
   },
   "outputs": [
    {
     "data": {
      "text/html": [
       "<div>\n",
       "<table border=\"1\" class=\"dataframe\">\n",
       "  <thead>\n",
       "    <tr style=\"text-align: right;\">\n",
       "      <th></th>\n",
       "      <th>drugbank_id</th>\n",
       "      <th>entrez_gene_id</th>\n",
       "      <th>sources</th>\n",
       "      <th>pubmed_ids</th>\n",
       "      <th>actions</th>\n",
       "      <th>affinity_nM</th>\n",
       "      <th>license</th>\n",
       "      <th>urls</th>\n",
       "    </tr>\n",
       "  </thead>\n",
       "  <tbody>\n",
       "    <tr>\n",
       "      <th>0</th>\n",
       "      <td>DB00014</td>\n",
       "      <td>2798</td>\n",
       "      <td>DrugBank (target)|DrugCentral (ChEMBL)</td>\n",
       "      <td>20053189</td>\n",
       "      <td>agonist</td>\n",
       "      <td>NaN</td>\n",
       "      <td>CC BY-NC 4.0</td>\n",
       "      <td>https://www.ebi.ac.uk/chembl/compound/inspect/...</td>\n",
       "    </tr>\n",
       "    <tr>\n",
       "      <th>1</th>\n",
       "      <td>DB00014</td>\n",
       "      <td>3973</td>\n",
       "      <td>DrugBank (target)</td>\n",
       "      <td>17016423|17139284|20053189</td>\n",
       "      <td>agonist</td>\n",
       "      <td>NaN</td>\n",
       "      <td>CC BY-NC 4.0</td>\n",
       "      <td>NaN</td>\n",
       "    </tr>\n",
       "  </tbody>\n",
       "</table>\n",
       "</div>"
      ],
      "text/plain": [
       "  drugbank_id  entrez_gene_id                                 sources  \\\n",
       "0     DB00014            2798  DrugBank (target)|DrugCentral (ChEMBL)   \n",
       "1     DB00014            3973                       DrugBank (target)   \n",
       "\n",
       "                   pubmed_ids  actions  affinity_nM       license  \\\n",
       "0                    20053189  agonist          NaN  CC BY-NC 4.0   \n",
       "1  17016423|17139284|20053189  agonist          NaN  CC BY-NC 4.0   \n",
       "\n",
       "                                                urls  \n",
       "0  https://www.ebi.ac.uk/chembl/compound/inspect/...  \n",
       "1                                                NaN  "
      ]
     },
     "execution_count": 43,
     "metadata": {},
     "output_type": "execute_result"
    }
   ],
   "source": [
    "binding_df = pandas.read_table('compile/CbG-binding.tsv')\n",
    "binding_df = binding_df.merge(compound_df[['drugbank_id']])\n",
    "binding_df = binding_df[binding_df.entrez_gene_id.isin(coding_genes)]\n",
    "binding_df.head(2)"
   ]
  },
  {
   "cell_type": "code",
   "execution_count": 44,
   "metadata": {
    "collapsed": false
   },
   "outputs": [],
   "source": [
    "for i, row in binding_df.iterrows():\n",
    "    source_id = 'Compound', row.drugbank_id\n",
    "    target_id = 'Gene', row.entrez_gene_id\n",
    "    data = {'unbiased': False}\n",
    "    # singular fields\n",
    "    for key in 'affinity_nM', 'license':\n",
    "        value = row[key]\n",
    "        if pandas.notnull(value):\n",
    "            data[key] = value\n",
    "    # compound fields\n",
    "    for key in 'sources', 'pubmed_ids', 'actions', 'urls':\n",
    "        value = row[key]\n",
    "        if pandas.notnull(value):\n",
    "            data[key] = value.split('|')\n",
    "    graph.add_edge(source_id, target_id, 'binds', 'both', data)"
   ]
  },
  {
   "cell_type": "markdown",
   "metadata": {},
   "source": [
    "## Protein interactions"
   ]
  },
  {
   "cell_type": "code",
   "execution_count": 45,
   "metadata": {
    "collapsed": false
   },
   "outputs": [
    {
     "data": {
      "text/html": [
       "<div>\n",
       "<table border=\"1\" class=\"dataframe\">\n",
       "  <thead>\n",
       "    <tr style=\"text-align: right;\">\n",
       "      <th></th>\n",
       "      <th>gene_0</th>\n",
       "      <th>gene_1</th>\n",
       "      <th>sources</th>\n",
       "      <th>unbiased</th>\n",
       "    </tr>\n",
       "  </thead>\n",
       "  <tbody>\n",
       "    <tr>\n",
       "      <th>0</th>\n",
       "      <td>1</td>\n",
       "      <td>310</td>\n",
       "      <td>hetio-dag</td>\n",
       "      <td>0</td>\n",
       "    </tr>\n",
       "    <tr>\n",
       "      <th>1</th>\n",
       "      <td>1</td>\n",
       "      <td>1026</td>\n",
       "      <td>hetio-dag</td>\n",
       "      <td>0</td>\n",
       "    </tr>\n",
       "  </tbody>\n",
       "</table>\n",
       "</div>"
      ],
      "text/plain": [
       "   gene_0  gene_1    sources  unbiased\n",
       "0       1     310  hetio-dag         0\n",
       "1       1    1026  hetio-dag         0"
      ]
     },
     "execution_count": 45,
     "metadata": {},
     "output_type": "execute_result"
    }
   ],
   "source": [
    "commit = 'f6a7edbc8de6ba2d7fe1ef3fee4d89e5b8d0b900'\n",
    "url = rawgit('dhimmel', 'ppi', commit, 'data/ppi-hetio-ind.tsv')\n",
    "ppi_df = pandas.read_table(url)\n",
    "ppi_df = ppi_df[ppi_df.gene_0.isin(coding_genes) & ppi_df.gene_1.isin(coding_genes)]\n",
    "# Consider allowing self-interactions in future versions of Hetionet by removing following \n",
    "# line of code. See https://github.com/dhimmel/hetio/issues/10\n",
    "ppi_df = ppi_df.query(\"gene_0 != gene_1\")\n",
    "ppi_df.head(2)"
   ]
  },
  {
   "cell_type": "code",
   "execution_count": 46,
   "metadata": {
    "collapsed": true
   },
   "outputs": [],
   "source": [
    "for i, row in ppi_df.iterrows():\n",
    "    source_id = 'Gene', row.gene_0\n",
    "    target_id = 'Gene', row.gene_1\n",
    "    data = {\n",
    "        'sources': row.sources.split('|'),\n",
    "        'unbiased': bool(row.unbiased),\n",
    "    }\n",
    "    graph.add_edge(source_id, target_id, 'interacts', 'both', data)"
   ]
  },
  {
   "cell_type": "markdown",
   "metadata": {},
   "source": [
    "## Evolutionary rate covariation"
   ]
  },
  {
   "cell_type": "code",
   "execution_count": 47,
   "metadata": {
    "collapsed": false
   },
   "outputs": [
    {
     "data": {
      "text/html": [
       "<div>\n",
       "<table border=\"1\" class=\"dataframe\">\n",
       "  <thead>\n",
       "    <tr style=\"text-align: right;\">\n",
       "      <th></th>\n",
       "      <th>source_entrez</th>\n",
       "      <th>target_entrez</th>\n",
       "      <th>correlation</th>\n",
       "      <th>n_ucsc_genes</th>\n",
       "      <th>gene_pair</th>\n",
       "    </tr>\n",
       "  </thead>\n",
       "  <tbody>\n",
       "    <tr>\n",
       "      <th>29</th>\n",
       "      <td>9</td>\n",
       "      <td>3295</td>\n",
       "      <td>0.77623</td>\n",
       "      <td>1</td>\n",
       "      <td>(9, 3295)</td>\n",
       "    </tr>\n",
       "    <tr>\n",
       "      <th>46</th>\n",
       "      <td>9</td>\n",
       "      <td>23313</td>\n",
       "      <td>0.79472</td>\n",
       "      <td>1</td>\n",
       "      <td>(9, 23313)</td>\n",
       "    </tr>\n",
       "  </tbody>\n",
       "</table>\n",
       "</div>"
      ],
      "text/plain": [
       "    source_entrez  target_entrez  correlation  n_ucsc_genes   gene_pair\n",
       "29              9           3295      0.77623             1   (9, 3295)\n",
       "46              9          23313      0.79472             1  (9, 23313)"
      ]
     },
     "execution_count": 47,
     "metadata": {},
     "output_type": "execute_result"
    }
   ],
   "source": [
    "commit = '757733f77a89499439c887acb88456e011c5322e'\n",
    "url = rawgit('dhimmel', 'erc', commit, 'data/erc_mam33-entrez-gt-0.6.tsv.gz')\n",
    "erc_df = pandas.read_table(url, compression='gzip')\n",
    "erc_df = erc_df[erc_df.correlation >= 0.75]\n",
    "erc_df = erc_df[erc_df.source_entrez.isin(coding_genes) & erc_df.target_entrez.isin(coding_genes)]\n",
    "# Drop self-loops (see https://github.com/dhimmel/erc/issues/2)\n",
    "erc_df = erc_df.query(\"source_entrez != target_entrez\")\n",
    "# Drop duplicate gene pair(s) (see https://github.com/dhimmel/erc/issues/1)\n",
    "erc_df['gene_pair'] = list(map(frozenset, zip(erc_df.source_entrez, erc_df.target_entrez)))\n",
    "erc_df = erc_df.drop_duplicates('gene_pair', keep='last')\n",
    "erc_df.head(2)"
   ]
  },
  {
   "cell_type": "code",
   "execution_count": 48,
   "metadata": {
    "collapsed": true
   },
   "outputs": [],
   "source": [
    "for i, row in erc_df.iterrows():\n",
    "    source_id = 'Gene', row.source_entrez\n",
    "    target_id = 'Gene', row.target_entrez\n",
    "    data = {\n",
    "        'source': 'ERC',\n",
    "        'unbiased': True,\n",
    "    }\n",
    "    graph.add_edge(source_id, target_id, 'covaries', 'both', data)"
   ]
  },
  {
   "cell_type": "markdown",
   "metadata": {},
   "source": [
    "## Indications from the PharmacotherapyDB"
   ]
  },
  {
   "cell_type": "code",
   "execution_count": 49,
   "metadata": {
    "collapsed": true
   },
   "outputs": [],
   "source": [
    "with open(\"../crossval_idx.txt\", \"r\") as fin:\n",
    "    piece_idx = int(fin.read().strip())"
   ]
  },
  {
   "cell_type": "code",
   "execution_count": 50,
   "metadata": {
    "collapsed": false
   },
   "outputs": [
    {
     "data": {
      "text/plain": [
       "0"
      ]
     },
     "execution_count": 50,
     "metadata": {},
     "output_type": "execute_result"
    }
   ],
   "source": [
    "piece_idx"
   ]
  },
  {
   "cell_type": "code",
   "execution_count": 51,
   "metadata": {
    "collapsed": false
   },
   "outputs": [],
   "source": [
    "# choose one subset of the data to use\n",
    "floc = \"~/crossval/data/training/training_piece{}.tsv\".format(piece_idx)\n",
    "indication_df = pandas.read_csv(floc, sep = '\\t')"
   ]
  },
  {
   "cell_type": "code",
   "execution_count": 52,
   "metadata": {
    "collapsed": false
   },
   "outputs": [
    {
     "data": {
      "text/plain": [
       "(83275, 6)"
      ]
     },
     "execution_count": 52,
     "metadata": {},
     "output_type": "execute_result"
    }
   ],
   "source": [
    "indication_df.shape"
   ]
  },
  {
   "cell_type": "code",
   "execution_count": 53,
   "metadata": {
    "collapsed": false
   },
   "outputs": [
    {
     "data": {
      "text/html": [
       "<div>\n",
       "<table border=\"1\" class=\"dataframe\">\n",
       "  <thead>\n",
       "    <tr style=\"text-align: right;\">\n",
       "      <th></th>\n",
       "      <th>dise_name</th>\n",
       "      <th>dise_type</th>\n",
       "      <th>drug_name</th>\n",
       "      <th>drugbank_id</th>\n",
       "      <th>orphanet_id</th>\n",
       "      <th>piece</th>\n",
       "    </tr>\n",
       "  </thead>\n",
       "  <tbody>\n",
       "    <tr>\n",
       "      <th>0</th>\n",
       "      <td>NaN</td>\n",
       "      <td>NaN</td>\n",
       "      <td>NaN</td>\n",
       "      <td>DB00035</td>\n",
       "      <td>ORPHA:100054</td>\n",
       "      <td>NaN</td>\n",
       "    </tr>\n",
       "    <tr>\n",
       "      <th>1</th>\n",
       "      <td>NaN</td>\n",
       "      <td>NaN</td>\n",
       "      <td>NaN</td>\n",
       "      <td>DB00035</td>\n",
       "      <td>ORPHA:1187</td>\n",
       "      <td>NaN</td>\n",
       "    </tr>\n",
       "    <tr>\n",
       "      <th>2</th>\n",
       "      <td>NaN</td>\n",
       "      <td>NaN</td>\n",
       "      <td>NaN</td>\n",
       "      <td>DB00035</td>\n",
       "      <td>ORPHA:119</td>\n",
       "      <td>NaN</td>\n",
       "    </tr>\n",
       "    <tr>\n",
       "      <th>3</th>\n",
       "      <td>NaN</td>\n",
       "      <td>NaN</td>\n",
       "      <td>NaN</td>\n",
       "      <td>DB00035</td>\n",
       "      <td>ORPHA:13</td>\n",
       "      <td>NaN</td>\n",
       "    </tr>\n",
       "    <tr>\n",
       "      <th>4</th>\n",
       "      <td>NaN</td>\n",
       "      <td>NaN</td>\n",
       "      <td>NaN</td>\n",
       "      <td>DB00035</td>\n",
       "      <td>ORPHA:137754</td>\n",
       "      <td>NaN</td>\n",
       "    </tr>\n",
       "  </tbody>\n",
       "</table>\n",
       "</div>"
      ],
      "text/plain": [
       "  dise_name dise_type drug_name drugbank_id   orphanet_id  piece\n",
       "0       NaN       NaN       NaN     DB00035  ORPHA:100054    NaN\n",
       "1       NaN       NaN       NaN     DB00035    ORPHA:1187    NaN\n",
       "2       NaN       NaN       NaN     DB00035     ORPHA:119    NaN\n",
       "3       NaN       NaN       NaN     DB00035      ORPHA:13    NaN\n",
       "4       NaN       NaN       NaN     DB00035  ORPHA:137754    NaN"
      ]
     },
     "execution_count": 53,
     "metadata": {},
     "output_type": "execute_result"
    }
   ],
   "source": [
    "indication_df.head()"
   ]
  },
  {
   "cell_type": "markdown",
   "metadata": {
    "collapsed": false
   },
   "source": [
    "indication_df[\"category\"].value_counts()"
   ]
  },
  {
   "cell_type": "markdown",
   "metadata": {
    "collapsed": false
   },
   "source": [
    "categories = {'DM'}\n",
    "\n",
    "indication_df = indication_df.query(\"category in @categories\").copy()\n",
    "\n",
    "indication_df['kind'] = indication_df.category.map({'DM': 'treats', 'SYM': 'palliates'})"
   ]
  },
  {
   "cell_type": "code",
   "execution_count": 54,
   "metadata": {
    "collapsed": true
   },
   "outputs": [],
   "source": [
    "indication_df = indication_df[indication_df[\"dise_name\"].notnull()]"
   ]
  },
  {
   "cell_type": "code",
   "execution_count": 55,
   "metadata": {
    "collapsed": false
   },
   "outputs": [
    {
     "data": {
      "text/plain": [
       "(1229, 6)"
      ]
     },
     "execution_count": 55,
     "metadata": {},
     "output_type": "execute_result"
    }
   ],
   "source": [
    "indication_df.shape"
   ]
  },
  {
   "cell_type": "code",
   "execution_count": 56,
   "metadata": {
    "collapsed": true
   },
   "outputs": [],
   "source": [
    "indication_df = indication_df.assign(kind = \"treats\").rename(columns={\"orphanet_id\": \"doid_id\"})"
   ]
  },
  {
   "cell_type": "code",
   "execution_count": 57,
   "metadata": {
    "collapsed": false
   },
   "outputs": [
    {
     "data": {
      "text/html": [
       "<div>\n",
       "<table border=\"1\" class=\"dataframe\">\n",
       "  <thead>\n",
       "    <tr style=\"text-align: right;\">\n",
       "      <th></th>\n",
       "      <th>dise_name</th>\n",
       "      <th>dise_type</th>\n",
       "      <th>drug_name</th>\n",
       "      <th>drugbank_id</th>\n",
       "      <th>doid_id</th>\n",
       "      <th>piece</th>\n",
       "      <th>kind</th>\n",
       "    </tr>\n",
       "  </thead>\n",
       "  <tbody>\n",
       "    <tr>\n",
       "      <th>14</th>\n",
       "      <td>Von Willebrand disease type 2A</td>\n",
       "      <td>rare_genetic</td>\n",
       "      <td>Desmopressin</td>\n",
       "      <td>DB00035</td>\n",
       "      <td>ORPHA:166084</td>\n",
       "      <td>2.0</td>\n",
       "      <td>treats</td>\n",
       "    </tr>\n",
       "    <tr>\n",
       "      <th>15</th>\n",
       "      <td>Von Willebrand disease type 2B</td>\n",
       "      <td>rare_genetic</td>\n",
       "      <td>Desmopressin</td>\n",
       "      <td>DB00035</td>\n",
       "      <td>ORPHA:166087</td>\n",
       "      <td>2.0</td>\n",
       "      <td>treats</td>\n",
       "    </tr>\n",
       "    <tr>\n",
       "      <th>16</th>\n",
       "      <td>Von Willebrand disease type 2M</td>\n",
       "      <td>rare_genetic</td>\n",
       "      <td>Desmopressin</td>\n",
       "      <td>DB00035</td>\n",
       "      <td>ORPHA:166090</td>\n",
       "      <td>2.0</td>\n",
       "      <td>treats</td>\n",
       "    </tr>\n",
       "    <tr>\n",
       "      <th>17</th>\n",
       "      <td>Von Willebrand disease type 2N</td>\n",
       "      <td>rare_genetic</td>\n",
       "      <td>Desmopressin</td>\n",
       "      <td>DB00035</td>\n",
       "      <td>ORPHA:166093</td>\n",
       "      <td>2.0</td>\n",
       "      <td>treats</td>\n",
       "    </tr>\n",
       "    <tr>\n",
       "      <th>18</th>\n",
       "      <td>Von Willebrand disease type 3</td>\n",
       "      <td>rare_genetic</td>\n",
       "      <td>Desmopressin</td>\n",
       "      <td>DB00035</td>\n",
       "      <td>ORPHA:166096</td>\n",
       "      <td>1.0</td>\n",
       "      <td>treats</td>\n",
       "    </tr>\n",
       "  </tbody>\n",
       "</table>\n",
       "</div>"
      ],
      "text/plain": [
       "                         dise_name     dise_type     drug_name drugbank_id  \\\n",
       "14  Von Willebrand disease type 2A  rare_genetic  Desmopressin     DB00035   \n",
       "15  Von Willebrand disease type 2B  rare_genetic  Desmopressin     DB00035   \n",
       "16  Von Willebrand disease type 2M  rare_genetic  Desmopressin     DB00035   \n",
       "17  Von Willebrand disease type 2N  rare_genetic  Desmopressin     DB00035   \n",
       "18   Von Willebrand disease type 3  rare_genetic  Desmopressin     DB00035   \n",
       "\n",
       "         doid_id  piece    kind  \n",
       "14  ORPHA:166084    2.0  treats  \n",
       "15  ORPHA:166087    2.0  treats  \n",
       "16  ORPHA:166090    2.0  treats  \n",
       "17  ORPHA:166093    2.0  treats  \n",
       "18  ORPHA:166096    1.0  treats  "
      ]
     },
     "execution_count": 57,
     "metadata": {},
     "output_type": "execute_result"
    }
   ],
   "source": [
    "indication_df.head()"
   ]
  },
  {
   "cell_type": "code",
   "execution_count": 58,
   "metadata": {
    "collapsed": false
   },
   "outputs": [
    {
     "data": {
      "text/plain": [
       "484"
      ]
     },
     "execution_count": 58,
     "metadata": {},
     "output_type": "execute_result"
    }
   ],
   "source": [
    "indication_df[\"doid_id\"].nunique()"
   ]
  },
  {
   "cell_type": "code",
   "execution_count": 59,
   "metadata": {
    "collapsed": false
   },
   "outputs": [
    {
     "data": {
      "text/plain": [
       "238"
      ]
     },
     "execution_count": 59,
     "metadata": {},
     "output_type": "execute_result"
    }
   ],
   "source": [
    "indication_df[\"drugbank_id\"].nunique()"
   ]
  },
  {
   "cell_type": "markdown",
   "metadata": {},
   "source": [
    "### Add to graph"
   ]
  },
  {
   "cell_type": "code",
   "execution_count": 60,
   "metadata": {
    "collapsed": true
   },
   "outputs": [],
   "source": [
    "for i, row in indication_df.iterrows():\n",
    "    source_id = ('Disease', row.doid_id)\n",
    "    target_id = ('Compound', row.drugbank_id)\n",
    "    data = {'source': 'PharmacotherapyDB', 'unbiased': False, 'license': 'CC0 1.0'}\n",
    "    graph.add_edge(source_id, target_id, row['kind'], 'both', data)"
   ]
  },
  {
   "cell_type": "markdown",
   "metadata": {},
   "source": [
    "## LINCS L1000 relationships"
   ]
  },
  {
   "cell_type": "code",
   "execution_count": 61,
   "metadata": {
    "collapsed": true
   },
   "outputs": [],
   "source": [
    "commit = 'abcb12f942f93e3ee839e5e3593f930df2c56845'"
   ]
  },
  {
   "cell_type": "code",
   "execution_count": 62,
   "metadata": {
    "collapsed": true
   },
   "outputs": [],
   "source": [
    "def filter_l1000_df(df, n):\n",
    "    \"\"\"\n",
    "    Filter LINCS L1000 differentially expression genes to at most `n` genes\n",
    "    per perturbagen-direction-status combination.\n",
    "    \"\"\"\n",
    "    df = df.groupby(['perturbagen', 'direction', 'status']).apply(\n",
    "        lambda x: x.nlargest(n, 'nlog10_bonferroni_pval')).reset_index(drop=True)\n",
    "    return df"
   ]
  },
  {
   "cell_type": "markdown",
   "metadata": {},
   "source": [
    "## LINCS compound-gene dysregulation"
   ]
  },
  {
   "cell_type": "code",
   "execution_count": 63,
   "metadata": {
    "collapsed": false
   },
   "outputs": [
    {
     "data": {
      "text/html": [
       "<div>\n",
       "<table border=\"1\" class=\"dataframe\">\n",
       "  <thead>\n",
       "    <tr style=\"text-align: right;\">\n",
       "      <th></th>\n",
       "      <th>perturbagen</th>\n",
       "      <th>entrez_gene_id</th>\n",
       "      <th>z_score</th>\n",
       "      <th>symbol</th>\n",
       "      <th>status</th>\n",
       "      <th>direction</th>\n",
       "      <th>nlog10_bonferroni_pval</th>\n",
       "    </tr>\n",
       "  </thead>\n",
       "  <tbody>\n",
       "    <tr>\n",
       "      <th>180454</th>\n",
       "      <td>DB09020</td>\n",
       "      <td>3895</td>\n",
       "      <td>4.077</td>\n",
       "      <td>KTN1</td>\n",
       "      <td>measured</td>\n",
       "      <td>up</td>\n",
       "      <td>1.351</td>\n",
       "    </tr>\n",
       "    <tr>\n",
       "      <th>180455</th>\n",
       "      <td>DB09020</td>\n",
       "      <td>23368</td>\n",
       "      <td>4.062</td>\n",
       "      <td>PPP1R13B</td>\n",
       "      <td>measured</td>\n",
       "      <td>up</td>\n",
       "      <td>1.323</td>\n",
       "    </tr>\n",
       "  </tbody>\n",
       "</table>\n",
       "</div>"
      ],
      "text/plain": [
       "       perturbagen  entrez_gene_id  z_score    symbol    status direction  \\\n",
       "180454     DB09020            3895    4.077      KTN1  measured        up   \n",
       "180455     DB09020           23368    4.062  PPP1R13B  measured        up   \n",
       "\n",
       "        nlog10_bonferroni_pval  \n",
       "180454                   1.351  \n",
       "180455                   1.323  "
      ]
     },
     "execution_count": 63,
     "metadata": {},
     "output_type": "execute_result"
    }
   ],
   "source": [
    "url = rawgit('dhimmel', 'lincs', commit, 'data/consensi/signif/dysreg-drugbank.tsv')\n",
    "l1000_df = pandas.read_table(url)\n",
    "l1000_df = l1000_df.query(\"perturbagen in @compound_df.drugbank_id and entrez_gene_id in @coding_genes\")\n",
    "l1000_df = filter_l1000_df(l1000_df, n=125)\n",
    "l1000_df.tail(2)"
   ]
  },
  {
   "cell_type": "code",
   "execution_count": 64,
   "metadata": {
    "collapsed": true
   },
   "outputs": [],
   "source": [
    "mapper = {'up': 'upregulates', 'down': 'downregulates'}\n",
    "for row in l1000_df.itertuples():\n",
    "    source_id = 'Compound', row.perturbagen\n",
    "    target_id = 'Gene', row.entrez_gene_id\n",
    "    data = {\n",
    "        'source': 'LINCS L1000',\n",
    "        'z_score': round(row.z_score, 3),\n",
    "        'method': row.status,\n",
    "        'unbiased': True,\n",
    "    }\n",
    "    kind = mapper[row.direction]\n",
    "    \n",
    "    # duplicate edges\n",
    "    try:\n",
    "        graph.add_edge(source_id, target_id, kind, 'both', data)\n",
    "    except AssertionError:\n",
    "        continue"
   ]
  },
  {
   "cell_type": "markdown",
   "metadata": {},
   "source": [
    "## LINCS genetic perturbations"
   ]
  },
  {
   "cell_type": "code",
   "execution_count": 65,
   "metadata": {
    "collapsed": true
   },
   "outputs": [],
   "source": [
    "url = rawgit('dhimmel', 'lincs', commit, 'data/consensi/signif/dysreg-knockdown.tsv')\n",
    "l1000_kd_df = filter_l1000_df(pandas.read_table(url), n=50)\n",
    "\n",
    "url = rawgit('dhimmel', 'lincs', commit, 'data/consensi/signif/dysreg-overexpression.tsv')\n",
    "l1000_oe_df = filter_l1000_df(pandas.read_table(url), n=50)"
   ]
  },
  {
   "cell_type": "code",
   "execution_count": 66,
   "metadata": {
    "collapsed": false
   },
   "outputs": [
    {
     "data": {
      "text/html": [
       "<div>\n",
       "<table border=\"1\" class=\"dataframe\">\n",
       "  <thead>\n",
       "    <tr style=\"text-align: right;\">\n",
       "      <th></th>\n",
       "      <th>perturbagen</th>\n",
       "      <th>entrez_gene_id</th>\n",
       "      <th>z_score</th>\n",
       "      <th>symbol</th>\n",
       "      <th>status</th>\n",
       "      <th>direction</th>\n",
       "      <th>nlog10_bonferroni_pval</th>\n",
       "      <th>kind</th>\n",
       "    </tr>\n",
       "  </thead>\n",
       "  <tbody>\n",
       "    <tr>\n",
       "      <th>0</th>\n",
       "      <td>2</td>\n",
       "      <td>7422</td>\n",
       "      <td>-7.823</td>\n",
       "      <td>VEGFA</td>\n",
       "      <td>imputed</td>\n",
       "      <td>down</td>\n",
       "      <td>10.475</td>\n",
       "      <td>knockdown downregulates</td>\n",
       "    </tr>\n",
       "    <tr>\n",
       "      <th>1</th>\n",
       "      <td>2</td>\n",
       "      <td>6382</td>\n",
       "      <td>-6.402</td>\n",
       "      <td>SDC1</td>\n",
       "      <td>imputed</td>\n",
       "      <td>down</td>\n",
       "      <td>6.002</td>\n",
       "      <td>knockdown downregulates</td>\n",
       "    </tr>\n",
       "  </tbody>\n",
       "</table>\n",
       "</div>"
      ],
      "text/plain": [
       "   perturbagen  entrez_gene_id  z_score symbol   status direction  \\\n",
       "0            2            7422   -7.823  VEGFA  imputed      down   \n",
       "1            2            6382   -6.402   SDC1  imputed      down   \n",
       "\n",
       "   nlog10_bonferroni_pval                     kind  \n",
       "0                  10.475  knockdown downregulates  \n",
       "1                   6.002  knockdown downregulates  "
      ]
     },
     "execution_count": 66,
     "metadata": {},
     "output_type": "execute_result"
    }
   ],
   "source": [
    "mapper = {'up': 'knockdown upregulates', 'down': 'knockdown downregulates'}\n",
    "l1000_kd_df['kind'] = l1000_kd_df.direction.map(lambda x: mapper[x])\n",
    "\n",
    "mapper = {'up': 'overexpression upregulates', 'down': 'overexpression downregulates'}\n",
    "l1000_oe_df['kind'] = l1000_oe_df.direction.map(lambda x: mapper[x])\n",
    "\n",
    "l1000_genetic_df = pandas.concat([l1000_kd_df, l1000_oe_df])\n",
    "l1000_genetic_df = l1000_genetic_df.query('perturbagen in @coding_genes and entrez_gene_id in @coding_genes')\n",
    "l1000_genetic_df = l1000_genetic_df.query('perturbagen != entrez_gene_id')\n",
    "\n",
    "l1000_genetic_df.head(2)"
   ]
  },
  {
   "cell_type": "code",
   "execution_count": 67,
   "metadata": {
    "collapsed": true
   },
   "outputs": [],
   "source": [
    "for (pert, gene), df in l1000_genetic_df.groupby(['perturbagen', 'entrez_gene_id'], sort=False):\n",
    "    source_id = 'Gene', pert\n",
    "    target_id = 'Gene', gene\n",
    "    method, = df.status.unique()\n",
    "    data = {'source': 'LINCS L1000', 'subtypes': list(df.kind), 'method': method, 'unbiased': True}\n",
    "    graph.add_edge(source_id, target_id, 'regulates', 'forward', data)"
   ]
  },
  {
   "cell_type": "markdown",
   "metadata": {},
   "source": [
    "## Side effects - SIDER"
   ]
  },
  {
   "cell_type": "code",
   "execution_count": 68,
   "metadata": {
    "collapsed": false
   },
   "outputs": [
    {
     "data": {
      "text/html": [
       "<div>\n",
       "<table border=\"1\" class=\"dataframe\">\n",
       "  <thead>\n",
       "    <tr style=\"text-align: right;\">\n",
       "      <th></th>\n",
       "      <th>umls_cui_from_meddra</th>\n",
       "      <th>side_effect_name</th>\n",
       "    </tr>\n",
       "  </thead>\n",
       "  <tbody>\n",
       "    <tr>\n",
       "      <th>0</th>\n",
       "      <td>C0863129</td>\n",
       "      <td>AGEP</td>\n",
       "    </tr>\n",
       "    <tr>\n",
       "      <th>1</th>\n",
       "      <td>C0001849</td>\n",
       "      <td>AIDS dementia complex</td>\n",
       "    </tr>\n",
       "  </tbody>\n",
       "</table>\n",
       "</div>"
      ],
      "text/plain": [
       "  umls_cui_from_meddra       side_effect_name\n",
       "0             C0863129                   AGEP\n",
       "1             C0001849  AIDS dementia complex"
      ]
     },
     "execution_count": 68,
     "metadata": {},
     "output_type": "execute_result"
    }
   ],
   "source": [
    "commit = 'be3adebc0d845baaddb907a880890cb5e85f5801'\n",
    "url = rawgit('dhimmel', 'SIDER4', commit, 'data/side-effect-terms.tsv')\n",
    "side_effect_df = pandas.read_table(url)\n",
    "side_effect_df.head(2)"
   ]
  },
  {
   "cell_type": "code",
   "execution_count": 69,
   "metadata": {
    "collapsed": true
   },
   "outputs": [],
   "source": [
    "for i, row in side_effect_df.iterrows():\n",
    "    umls_id = row['umls_cui_from_meddra']\n",
    "    data = {\n",
    "        'source': 'UMLS via SIDER 4.1',\n",
    "        'url': 'http://identifiers.org/umls/{}'.format(umls_id),\n",
    "        'license': 'CC BY-NC-SA 4.0',\n",
    "    }\n",
    "    graph.add_node(kind='Side Effect', identifier=umls_id, name=row['side_effect_name'], data=data)"
   ]
  },
  {
   "cell_type": "code",
   "execution_count": 70,
   "metadata": {
    "collapsed": false
   },
   "outputs": [
    {
     "data": {
      "text/html": [
       "<div>\n",
       "<table border=\"1\" class=\"dataframe\">\n",
       "  <thead>\n",
       "    <tr style=\"text-align: right;\">\n",
       "      <th></th>\n",
       "      <th>drugbank_id</th>\n",
       "      <th>drugbank_name</th>\n",
       "      <th>umls_cui_from_meddra</th>\n",
       "      <th>side_effect_name</th>\n",
       "    </tr>\n",
       "  </thead>\n",
       "  <tbody>\n",
       "    <tr>\n",
       "      <th>6398</th>\n",
       "      <td>DB01048</td>\n",
       "      <td>Abacavir</td>\n",
       "      <td>C0001849</td>\n",
       "      <td>AIDS dementia complex</td>\n",
       "    </tr>\n",
       "    <tr>\n",
       "      <th>6399</th>\n",
       "      <td>DB01048</td>\n",
       "      <td>Abacavir</td>\n",
       "      <td>C0232487</td>\n",
       "      <td>Abdominal discomfort</td>\n",
       "    </tr>\n",
       "  </tbody>\n",
       "</table>\n",
       "</div>"
      ],
      "text/plain": [
       "     drugbank_id drugbank_name umls_cui_from_meddra       side_effect_name\n",
       "6398     DB01048      Abacavir             C0001849  AIDS dementia complex\n",
       "6399     DB01048      Abacavir             C0232487   Abdominal discomfort"
      ]
     },
     "execution_count": 70,
     "metadata": {},
     "output_type": "execute_result"
    }
   ],
   "source": [
    "url = rawgit('dhimmel', 'SIDER4', commit, 'data/side-effects.tsv')\n",
    "sider_df = pandas.read_table(url)\n",
    "sider_df = sider_df[sider_df.drugbank_id.isin(compound_df.drugbank_id)]\n",
    "sider_df.head(2)"
   ]
  },
  {
   "cell_type": "code",
   "execution_count": 71,
   "metadata": {
    "collapsed": true
   },
   "outputs": [],
   "source": [
    "for i, row in sider_df.iterrows():\n",
    "    umls_id = row.umls_cui_from_meddra\n",
    "    source_id = 'Compound', row.drugbank_id\n",
    "    target_id = 'Side Effect', umls_id\n",
    "    data = {\n",
    "        'source': 'SIDER 4.1',\n",
    "        'url': 'http://sideeffects.embl.de/se/{}/'.format(umls_id),\n",
    "        'unbiased': False,\n",
    "        'license': 'CC BY-NC-SA 4.0',\n",
    "    }\n",
    "    graph.add_edge(source_id, target_id, 'causes', 'both', data)"
   ]
  },
  {
   "cell_type": "markdown",
   "metadata": {},
   "source": [
    "## Network visualizations and stats"
   ]
  },
  {
   "cell_type": "code",
   "execution_count": 72,
   "metadata": {
    "collapsed": false
   },
   "outputs": [],
   "source": [
    "# Export node degree tables\n",
    "hetio.stats.degrees_to_excel(graph, 'data/summary/degrees.xlsx')"
   ]
  },
  {
   "cell_type": "code",
   "execution_count": 73,
   "metadata": {
    "collapsed": false,
    "scrolled": true
   },
   "outputs": [],
   "source": [
    "# Create and save degree distribution vizualizations\n",
    "# hetio.stats.plot_degrees(graph, 'viz/degrees.pdf')"
   ]
  },
  {
   "cell_type": "code",
   "execution_count": 74,
   "metadata": {
    "collapsed": false
   },
   "outputs": [
    {
     "data": {
      "text/html": [
       "<div>\n",
       "<table border=\"1\" class=\"dataframe\">\n",
       "  <thead>\n",
       "    <tr style=\"text-align: right;\">\n",
       "      <th></th>\n",
       "      <th>metanode</th>\n",
       "      <th>abbreviation</th>\n",
       "      <th>metaedges</th>\n",
       "      <th>nodes</th>\n",
       "      <th>unconnected_nodes</th>\n",
       "    </tr>\n",
       "  </thead>\n",
       "  <tbody>\n",
       "    <tr>\n",
       "      <th>0</th>\n",
       "      <td>Anatomy</td>\n",
       "      <td>A</td>\n",
       "      <td>4</td>\n",
       "      <td>402</td>\n",
       "      <td>2</td>\n",
       "    </tr>\n",
       "    <tr>\n",
       "      <th>3</th>\n",
       "      <td>Biological Process</td>\n",
       "      <td>BP</td>\n",
       "      <td>1</td>\n",
       "      <td>11381</td>\n",
       "      <td>0</td>\n",
       "    </tr>\n",
       "    <tr>\n",
       "      <th>9</th>\n",
       "      <td>Cellular Component</td>\n",
       "      <td>CC</td>\n",
       "      <td>1</td>\n",
       "      <td>1391</td>\n",
       "      <td>0</td>\n",
       "    </tr>\n",
       "    <tr>\n",
       "      <th>5</th>\n",
       "      <td>Compound</td>\n",
       "      <td>C</td>\n",
       "      <td>7</td>\n",
       "      <td>1552</td>\n",
       "      <td>14</td>\n",
       "    </tr>\n",
       "    <tr>\n",
       "      <th>6</th>\n",
       "      <td>Disease</td>\n",
       "      <td>D</td>\n",
       "      <td>7</td>\n",
       "      <td>3692</td>\n",
       "      <td>1</td>\n",
       "    </tr>\n",
       "    <tr>\n",
       "      <th>10</th>\n",
       "      <td>Gene</td>\n",
       "      <td>G</td>\n",
       "      <td>16</td>\n",
       "      <td>20945</td>\n",
       "      <td>1798</td>\n",
       "    </tr>\n",
       "    <tr>\n",
       "      <th>8</th>\n",
       "      <td>Molecular Function</td>\n",
       "      <td>MF</td>\n",
       "      <td>1</td>\n",
       "      <td>2884</td>\n",
       "      <td>0</td>\n",
       "    </tr>\n",
       "    <tr>\n",
       "      <th>2</th>\n",
       "      <td>Pathway</td>\n",
       "      <td>PW</td>\n",
       "      <td>1</td>\n",
       "      <td>1822</td>\n",
       "      <td>0</td>\n",
       "    </tr>\n",
       "    <tr>\n",
       "      <th>1</th>\n",
       "      <td>Pharmacologic Class</td>\n",
       "      <td>PC</td>\n",
       "      <td>1</td>\n",
       "      <td>345</td>\n",
       "      <td>0</td>\n",
       "    </tr>\n",
       "    <tr>\n",
       "      <th>4</th>\n",
       "      <td>Side Effect</td>\n",
       "      <td>SE</td>\n",
       "      <td>1</td>\n",
       "      <td>5734</td>\n",
       "      <td>33</td>\n",
       "    </tr>\n",
       "    <tr>\n",
       "      <th>7</th>\n",
       "      <td>Symptom</td>\n",
       "      <td>S</td>\n",
       "      <td>1</td>\n",
       "      <td>438</td>\n",
       "      <td>23</td>\n",
       "    </tr>\n",
       "  </tbody>\n",
       "</table>\n",
       "</div>"
      ],
      "text/plain": [
       "               metanode abbreviation  metaedges  nodes  unconnected_nodes\n",
       "0               Anatomy            A          4    402                  2\n",
       "3    Biological Process           BP          1  11381                  0\n",
       "9    Cellular Component           CC          1   1391                  0\n",
       "5              Compound            C          7   1552                 14\n",
       "6               Disease            D          7   3692                  1\n",
       "10                 Gene            G         16  20945               1798\n",
       "8    Molecular Function           MF          1   2884                  0\n",
       "2               Pathway           PW          1   1822                  0\n",
       "1   Pharmacologic Class           PC          1    345                  0\n",
       "4           Side Effect           SE          1   5734                 33\n",
       "7               Symptom            S          1    438                 23"
      ]
     },
     "execution_count": 74,
     "metadata": {},
     "output_type": "execute_result"
    }
   ],
   "source": [
    "# Summary of metanodes and cooresponding nodes\n",
    "metanode_df = hetio.stats.get_metanode_df(graph)\n",
    "metanode_df.to_csv('data/summary/metanodes.tsv', sep='\\t', index=False)\n",
    "metanode_df"
   ]
  },
  {
   "cell_type": "code",
   "execution_count": 75,
   "metadata": {
    "collapsed": false
   },
   "outputs": [
    {
     "data": {
      "text/plain": [
       "50586"
      ]
     },
     "execution_count": 75,
     "metadata": {},
     "output_type": "execute_result"
    }
   ],
   "source": [
    "# Total number of nodes\n",
    "metanode_df.nodes.sum()"
   ]
  },
  {
   "cell_type": "code",
   "execution_count": 76,
   "metadata": {
    "collapsed": false
   },
   "outputs": [
    {
     "data": {
      "text/html": [
       "<div>\n",
       "<table border=\"1\" class=\"dataframe\">\n",
       "  <thead>\n",
       "    <tr style=\"text-align: right;\">\n",
       "      <th></th>\n",
       "      <th>metaedge</th>\n",
       "      <th>abbreviation</th>\n",
       "      <th>edges</th>\n",
       "      <th>source_nodes</th>\n",
       "      <th>target_nodes</th>\n",
       "      <th>unbiased</th>\n",
       "    </tr>\n",
       "  </thead>\n",
       "  <tbody>\n",
       "    <tr>\n",
       "      <th>0</th>\n",
       "      <td>Anatomy - downregulates - Gene</td>\n",
       "      <td>AdG</td>\n",
       "      <td>102240</td>\n",
       "      <td>36</td>\n",
       "      <td>15097</td>\n",
       "      <td>102240</td>\n",
       "    </tr>\n",
       "    <tr>\n",
       "      <th>1</th>\n",
       "      <td>Anatomy - expresses - Gene</td>\n",
       "      <td>AeG</td>\n",
       "      <td>526407</td>\n",
       "      <td>241</td>\n",
       "      <td>18094</td>\n",
       "      <td>453477</td>\n",
       "    </tr>\n",
       "    <tr>\n",
       "      <th>2</th>\n",
       "      <td>Anatomy - upregulates - Gene</td>\n",
       "      <td>AuG</td>\n",
       "      <td>97848</td>\n",
       "      <td>36</td>\n",
       "      <td>15929</td>\n",
       "      <td>97848</td>\n",
       "    </tr>\n",
       "    <tr>\n",
       "      <th>3</th>\n",
       "      <td>Compound - binds - Gene</td>\n",
       "      <td>CbG</td>\n",
       "      <td>11571</td>\n",
       "      <td>1389</td>\n",
       "      <td>1689</td>\n",
       "      <td>0</td>\n",
       "    </tr>\n",
       "    <tr>\n",
       "      <th>4</th>\n",
       "      <td>Compound - causes - Side Effect</td>\n",
       "      <td>CcSE</td>\n",
       "      <td>138944</td>\n",
       "      <td>1071</td>\n",
       "      <td>5701</td>\n",
       "      <td>0</td>\n",
       "    </tr>\n",
       "    <tr>\n",
       "      <th>5</th>\n",
       "      <td>Compound - downregulates - Gene</td>\n",
       "      <td>CdG</td>\n",
       "      <td>21421</td>\n",
       "      <td>734</td>\n",
       "      <td>2972</td>\n",
       "      <td>21421</td>\n",
       "    </tr>\n",
       "    <tr>\n",
       "      <th>6</th>\n",
       "      <td>Compound - resembles - Compound</td>\n",
       "      <td>CrC</td>\n",
       "      <td>6486</td>\n",
       "      <td>1042</td>\n",
       "      <td>1054</td>\n",
       "      <td>6486</td>\n",
       "    </tr>\n",
       "    <tr>\n",
       "      <th>7</th>\n",
       "      <td>Compound - treats - Disease</td>\n",
       "      <td>CtD</td>\n",
       "      <td>1229</td>\n",
       "      <td>238</td>\n",
       "      <td>484</td>\n",
       "      <td>0</td>\n",
       "    </tr>\n",
       "    <tr>\n",
       "      <th>8</th>\n",
       "      <td>Compound - upregulates - Gene</td>\n",
       "      <td>CuG</td>\n",
       "      <td>19027</td>\n",
       "      <td>703</td>\n",
       "      <td>3348</td>\n",
       "      <td>19027</td>\n",
       "    </tr>\n",
       "    <tr>\n",
       "      <th>9</th>\n",
       "      <td>Disease - associates - Gene</td>\n",
       "      <td>DaG</td>\n",
       "      <td>19362</td>\n",
       "      <td>3689</td>\n",
       "      <td>7057</td>\n",
       "      <td>1284</td>\n",
       "    </tr>\n",
       "    <tr>\n",
       "      <th>10</th>\n",
       "      <td>Disease - downregulates - Gene</td>\n",
       "      <td>DdG</td>\n",
       "      <td>9210</td>\n",
       "      <td>44</td>\n",
       "      <td>6651</td>\n",
       "      <td>9210</td>\n",
       "    </tr>\n",
       "    <tr>\n",
       "      <th>11</th>\n",
       "      <td>Disease - localizes - Anatomy</td>\n",
       "      <td>DlA</td>\n",
       "      <td>3602</td>\n",
       "      <td>133</td>\n",
       "      <td>398</td>\n",
       "      <td>0</td>\n",
       "    </tr>\n",
       "    <tr>\n",
       "      <th>12</th>\n",
       "      <td>Disease - presents - Symptom</td>\n",
       "      <td>DpS</td>\n",
       "      <td>3357</td>\n",
       "      <td>133</td>\n",
       "      <td>415</td>\n",
       "      <td>0</td>\n",
       "    </tr>\n",
       "    <tr>\n",
       "      <th>13</th>\n",
       "      <td>Disease - resembles - Disease</td>\n",
       "      <td>DrD</td>\n",
       "      <td>543</td>\n",
       "      <td>112</td>\n",
       "      <td>106</td>\n",
       "      <td>0</td>\n",
       "    </tr>\n",
       "    <tr>\n",
       "      <th>14</th>\n",
       "      <td>Disease - upregulates - Gene</td>\n",
       "      <td>DuG</td>\n",
       "      <td>9170</td>\n",
       "      <td>44</td>\n",
       "      <td>6356</td>\n",
       "      <td>9170</td>\n",
       "    </tr>\n",
       "    <tr>\n",
       "      <th>15</th>\n",
       "      <td>Gene - covaries - Gene</td>\n",
       "      <td>GcG</td>\n",
       "      <td>61690</td>\n",
       "      <td>9043</td>\n",
       "      <td>9532</td>\n",
       "      <td>61690</td>\n",
       "    </tr>\n",
       "    <tr>\n",
       "      <th>16</th>\n",
       "      <td>Gene - interacts - Gene</td>\n",
       "      <td>GiG</td>\n",
       "      <td>147164</td>\n",
       "      <td>9526</td>\n",
       "      <td>14084</td>\n",
       "      <td>15517</td>\n",
       "    </tr>\n",
       "    <tr>\n",
       "      <th>17</th>\n",
       "      <td>Gene - participates - Biological Process</td>\n",
       "      <td>GpBP</td>\n",
       "      <td>559504</td>\n",
       "      <td>14772</td>\n",
       "      <td>11381</td>\n",
       "      <td>0</td>\n",
       "    </tr>\n",
       "    <tr>\n",
       "      <th>18</th>\n",
       "      <td>Gene - participates - Cellular Component</td>\n",
       "      <td>GpCC</td>\n",
       "      <td>73566</td>\n",
       "      <td>10580</td>\n",
       "      <td>1391</td>\n",
       "      <td>0</td>\n",
       "    </tr>\n",
       "    <tr>\n",
       "      <th>19</th>\n",
       "      <td>Gene - participates - Molecular Function</td>\n",
       "      <td>GpMF</td>\n",
       "      <td>97222</td>\n",
       "      <td>13063</td>\n",
       "      <td>2884</td>\n",
       "      <td>0</td>\n",
       "    </tr>\n",
       "    <tr>\n",
       "      <th>20</th>\n",
       "      <td>Gene - participates - Pathway</td>\n",
       "      <td>GpPW</td>\n",
       "      <td>84372</td>\n",
       "      <td>8979</td>\n",
       "      <td>1822</td>\n",
       "      <td>0</td>\n",
       "    </tr>\n",
       "    <tr>\n",
       "      <th>21</th>\n",
       "      <td>Gene &gt; regulates &gt; Gene</td>\n",
       "      <td>Gr&gt;G</td>\n",
       "      <td>265710</td>\n",
       "      <td>4634</td>\n",
       "      <td>7048</td>\n",
       "      <td>265710</td>\n",
       "    </tr>\n",
       "    <tr>\n",
       "      <th>22</th>\n",
       "      <td>Pharmacologic Class - includes - Compound</td>\n",
       "      <td>PCiC</td>\n",
       "      <td>1029</td>\n",
       "      <td>345</td>\n",
       "      <td>724</td>\n",
       "      <td>0</td>\n",
       "    </tr>\n",
       "  </tbody>\n",
       "</table>\n",
       "</div>"
      ],
      "text/plain": [
       "                                     metaedge abbreviation   edges  \\\n",
       "0              Anatomy - downregulates - Gene          AdG  102240   \n",
       "1                  Anatomy - expresses - Gene          AeG  526407   \n",
       "2                Anatomy - upregulates - Gene          AuG   97848   \n",
       "3                     Compound - binds - Gene          CbG   11571   \n",
       "4             Compound - causes - Side Effect         CcSE  138944   \n",
       "5             Compound - downregulates - Gene          CdG   21421   \n",
       "6             Compound - resembles - Compound          CrC    6486   \n",
       "7                 Compound - treats - Disease          CtD    1229   \n",
       "8               Compound - upregulates - Gene          CuG   19027   \n",
       "9                 Disease - associates - Gene          DaG   19362   \n",
       "10             Disease - downregulates - Gene          DdG    9210   \n",
       "11              Disease - localizes - Anatomy          DlA    3602   \n",
       "12               Disease - presents - Symptom          DpS    3357   \n",
       "13              Disease - resembles - Disease          DrD     543   \n",
       "14               Disease - upregulates - Gene          DuG    9170   \n",
       "15                     Gene - covaries - Gene          GcG   61690   \n",
       "16                    Gene - interacts - Gene          GiG  147164   \n",
       "17   Gene - participates - Biological Process         GpBP  559504   \n",
       "18   Gene - participates - Cellular Component         GpCC   73566   \n",
       "19   Gene - participates - Molecular Function         GpMF   97222   \n",
       "20              Gene - participates - Pathway         GpPW   84372   \n",
       "21                    Gene > regulates > Gene         Gr>G  265710   \n",
       "22  Pharmacologic Class - includes - Compound         PCiC    1029   \n",
       "\n",
       "    source_nodes  target_nodes  unbiased  \n",
       "0             36         15097    102240  \n",
       "1            241         18094    453477  \n",
       "2             36         15929     97848  \n",
       "3           1389          1689         0  \n",
       "4           1071          5701         0  \n",
       "5            734          2972     21421  \n",
       "6           1042          1054      6486  \n",
       "7            238           484         0  \n",
       "8            703          3348     19027  \n",
       "9           3689          7057      1284  \n",
       "10            44          6651      9210  \n",
       "11           133           398         0  \n",
       "12           133           415         0  \n",
       "13           112           106         0  \n",
       "14            44          6356      9170  \n",
       "15          9043          9532     61690  \n",
       "16          9526         14084     15517  \n",
       "17         14772         11381         0  \n",
       "18         10580          1391         0  \n",
       "19         13063          2884         0  \n",
       "20          8979          1822         0  \n",
       "21          4634          7048    265710  \n",
       "22           345           724         0  "
      ]
     },
     "execution_count": 76,
     "metadata": {},
     "output_type": "execute_result"
    }
   ],
   "source": [
    "# Summary of metaedges and cooresponding edges\n",
    "metaedge_df = hetio.stats.get_metaedge_df(graph)\n",
    "\n",
    "# Calculate number of unbiased edges\n",
    "rows = list()\n",
    "for metaedge, edges in graph.get_metaedge_to_edges(exclude_inverts=True).items():\n",
    "    unbiased = sum(edge.data['unbiased'] for edge in edges)\n",
    "    rows.append({'metaedge': str(metaedge), 'unbiased': unbiased})\n",
    "\n",
    "metaedge_df = metaedge_df.merge(pandas.DataFrame(rows))\n",
    "metaedge_df.to_csv('data/summary/metaedges.tsv', sep='\\t', index=False)\n",
    "metaedge_df"
   ]
  },
  {
   "cell_type": "code",
   "execution_count": 77,
   "metadata": {
    "collapsed": true
   },
   "outputs": [],
   "source": [
    "# Summary of different styles for representing each metaedge\n",
    "metaedge_style_df = hetio.stats.get_metaedge_style_df(metagraph)\n",
    "metaedge_style_df.to_csv('data/summary/metaedge-styles.tsv', sep='\\t', index=False)"
   ]
  },
  {
   "cell_type": "code",
   "execution_count": 78,
   "metadata": {
    "collapsed": false,
    "scrolled": true
   },
   "outputs": [
    {
     "data": {
      "text/plain": [
       "2260674"
      ]
     },
     "execution_count": 78,
     "metadata": {},
     "output_type": "execute_result"
    }
   ],
   "source": [
    "# Number of edges in the network\n",
    "metaedge_df.edges.sum()"
   ]
  },
  {
   "cell_type": "markdown",
   "metadata": {
    "collapsed": true
   },
   "source": [
    "## Save graph"
   ]
  },
  {
   "cell_type": "code",
   "execution_count": 79,
   "metadata": {
    "collapsed": false
   },
   "outputs": [],
   "source": [
    "# Write nodes to a table\n",
    "path = 'data/nodes.tsv'\n",
    "hetio.readwrite.write_nodetable(graph, path)\n",
    "\n",
    "# Write edges to a table\n",
    "path = 'data/edges.sif.gz'\n",
    "hetio.readwrite.write_sif(graph, path)"
   ]
  },
  {
   "cell_type": "code",
   "execution_count": 80,
   "metadata": {
    "collapsed": true
   },
   "outputs": [],
   "source": [
    "# Write a subset of edges to a table\n",
    "path = 'data/edges-10.sif'\n",
    "hetio.readwrite.write_sif(graph, path, max_edges=10)\n",
    "\n",
    "path = 'data/edges-5k.sif.gz'\n",
    "hetio.readwrite.write_sif(graph, path, max_edges=5000)"
   ]
  },
  {
   "cell_type": "code",
   "execution_count": 81,
   "metadata": {
    "collapsed": true
   },
   "outputs": [],
   "source": [
    "# Write metagraph as json\n",
    "path = 'data/metagraph.json'\n",
    "hetio.readwrite.write_metagraph(metagraph, path)"
   ]
  },
  {
   "cell_type": "code",
   "execution_count": 82,
   "metadata": {
    "collapsed": false
   },
   "outputs": [],
   "source": [
    "# Write graph as json\n",
    "path = 'data/hetnet.json.bz2'\n",
    "hetio.readwrite.write_graph(graph, path)"
   ]
  },
  {
   "cell_type": "code",
   "execution_count": 83,
   "metadata": {
    "collapsed": false
   },
   "outputs": [
    {
     "name": "stdout",
     "output_type": "stream",
     "text": [
      "87f217d65a2e1101186915e9b13d2ea82c3e4cf4ef2feb5c98b3cada5cbb1369  data/hetnet.json.bz2\r\n"
     ]
    }
   ],
   "source": [
    "! sha256sum data/hetnet.json.bz2"
   ]
  },
  {
   "cell_type": "markdown",
   "metadata": {},
   "source": [
    "## Barplots of metaedge and metanode counts"
   ]
  },
  {
   "cell_type": "code",
   "execution_count": 84,
   "metadata": {
    "collapsed": true
   },
   "outputs": [],
   "source": [
    "%matplotlib inline"
   ]
  },
  {
   "cell_type": "code",
   "execution_count": 85,
   "metadata": {
    "collapsed": false
   },
   "outputs": [
    {
     "name": "stderr",
     "output_type": "stream",
     "text": [
      "/home/tongli/anaconda3/envs/integrate/lib/python3.5/site-packages/matplotlib/font_manager.py:1297: UserWarning: findfont: Font family ['sans-serif'] not found. Falling back to DejaVu Sans\n",
      "  (prop.get_family(), self.defaultFamily[fontext]))\n"
     ]
    },
    {
     "data": {
      "image/png": "[encoded data removed]",
      "text/plain": [
       "<matplotlib.figure.Figure at 0x7f47647bb0f0>"
      ]
     },
     "metadata": {},
     "output_type": "display_data"
    }
   ],
   "source": [
    "ax = seaborn.barplot(x='metanode', y='nodes', data=metanode_df.sort_values('nodes'))\n",
    "for tick in ax.get_xticklabels():\n",
    "    tick.set_rotation(90)\n",
    "ax.set_xlabel(''); ax.set_ylabel('nodes');"
   ]
  },
  {
   "cell_type": "code",
   "execution_count": 86,
   "metadata": {
    "collapsed": false
   },
   "outputs": [
    {
     "name": "stderr",
     "output_type": "stream",
     "text": [
      "/home/tongli/anaconda3/envs/integrate/lib/python3.5/site-packages/matplotlib/font_manager.py:1297: UserWarning: findfont: Font family ['sans-serif'] not found. Falling back to DejaVu Sans\n",
      "  (prop.get_family(), self.defaultFamily[fontext]))\n"
     ]
    },
    {
     "data": {
      "image/png": "[encoded data removed]",
      "text/plain": [
       "<matplotlib.figure.Figure at 0x7f477e2acf60>"
      ]
     },
     "metadata": {},
     "output_type": "display_data"
    }
   ],
   "source": [
    "ax = seaborn.barplot(x='metaedge', y='edges', data=metaedge_df.sort_values('edges'))\n",
    "for tick in ax.get_xticklabels():\n",
    "    tick.set_rotation(90)\n",
    "ax.set_xlabel(''); ax.set_ylabel('edges');"
   ]
  }
 ],
 "metadata": {
  "kernelspec": {
   "display_name": "Python 3",
   "language": "python",
   "name": "python3"
  },
  "language_info": {
   "codemirror_mode": {
    "name": "ipython",
    "version": 3
   },
   "file_extension": ".py",
   "mimetype": "text/x-python",
   "name": "python",
   "nbconvert_exporter": "python",
   "pygments_lexer": "ipython3",
   "version": "3.5.2"
  }
 },
 "nbformat": 4,
 "nbformat_minor": 0
}

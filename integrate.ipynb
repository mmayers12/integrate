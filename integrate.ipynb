{
 "cells": [
  {
   "cell_type": "markdown",
   "metadata": {},
   "source": [
    "# Integrate resources to create a drug repurposing hetnet"
   ]
  },
  {
   "cell_type": "code",
   "execution_count": 1,
   "metadata": {
    "collapsed": false
   },
   "outputs": [],
   "source": [
    "import pandas\n",
    "import seaborn\n",
    "\n",
    "import hetio.hetnet\n",
    "import hetio.readwrite\n",
    "import hetio.stats\n",
    "\n",
    "from utils import rawgit, obo_iri"
   ]
  },
  {
   "cell_type": "markdown",
   "metadata": {
    "collapsed": false
   },
   "source": [
    "## Define the metagraph and instantiate the graph"
   ]
  },
  {
   "cell_type": "code",
   "execution_count": 2,
   "metadata": {
    "collapsed": true
   },
   "outputs": [],
   "source": [
    "kind_to_abbev = {\n",
    "    \n",
    "    # metanodes\n",
    "    'Compound': 'C',\n",
    "    'Disease': 'D',\n",
    "    'Gene': 'G',\n",
    "#     'Anatomy': 'A',\n",
    "#     'Symptom': 'S',\n",
    "#     'Side Effect': 'SE',\n",
    "#     'Pathway': 'PW',\n",
    "#     'Pharmacologic Class': 'PC',\n",
    "#     'Biological Process': 'BP',\n",
    "#     'Cellular Component': 'CC',\n",
    "#     'Molecular Function': 'MF',\n",
    "    \n",
    "    # metaedges\n",
    "    'treats': 't',\n",
    "    'palliates': 'p',\n",
    "    'binds': 'b',\n",
    "#     'expresses': 'e',\n",
    "    'regulates': 'r',\n",
    "    'upregulates': 'u',\n",
    "    'downregulates': 'd',\n",
    "#     'interacts': 'i',\n",
    "#     'includes': 'i',\n",
    "#     'covaries': 'c',\n",
    "#     'regulates': 'r',\n",
    "#     'participates': 'p',\n",
    "    'resembles': 'r',\n",
    "    'associates': 'a',\n",
    "#     'localizes': 'l',\n",
    "#     'presents': 'p',\n",
    "#     'causes': 'c',\n",
    "}\n",
    "\n",
    "metaedge_tuples = [\n",
    "    ('Compound', 'Disease', 'treats', 'both'),\n",
    "    ('Compound', 'Disease', 'palliates', 'both'),\n",
    "    ('Compound', 'Gene', 'binds', 'both'),\n",
    "    ('Compound', 'Gene', 'upregulates', 'both'),\n",
    "    ('Compound', 'Gene', 'downregulates', 'both'),\n",
    "    ('Compound', 'Compound', 'resembles', 'both'),\n",
    "#     ('Compound', 'Side Effect', 'causes', 'both'),\n",
    "#     ('Pharmacologic Class', 'Compound', 'includes', 'both'),\n",
    "#     ('Anatomy', 'Gene', 'expresses', 'both'),\n",
    "#     ('Anatomy', 'Gene', 'upregulates', 'both'),\n",
    "#     ('Anatomy', 'Gene', 'downregulates', 'both'),\n",
    "#     ('Gene', 'Gene', 'interacts', 'both'),\n",
    "#     ('Gene', 'Gene', 'covaries', 'both'),\n",
    "#     ('Gene', 'Gene', 'regulates', 'forward'),\n",
    "#     ('Gene', 'Pathway', 'participates', 'both'),\n",
    "#     ('Gene', 'Biological Process', 'participates', 'both'),\n",
    "#     ('Gene', 'Cellular Component', 'participates', 'both'),\n",
    "#     ('Gene', 'Molecular Function', 'participates', 'both'),\n",
    "    ('Disease', 'Disease', 'resembles', 'both'),\n",
    "    ('Disease', 'Gene', 'associates', 'both'),\n",
    "    ('Disease', 'Gene', 'upregulates', 'both'),\n",
    "    ('Disease', 'Gene', 'downregulates', 'both'),\n",
    "#     ('Disease', 'Anatomy', 'localizes', 'both'),\n",
    "#     ('Disease', 'Symptom', 'presents', 'both'),\n",
    "]\n",
    "metagraph = hetio.hetnet.MetaGraph.from_edge_tuples(metaedge_tuples, kind_to_abbev)\n",
    "graph = hetio.hetnet.Graph(metagraph)"
   ]
  },
  {
   "cell_type": "markdown",
   "metadata": {},
   "source": [
    "## Gene Nodes"
   ]
  },
  {
   "cell_type": "code",
   "execution_count": 3,
   "metadata": {
    "collapsed": false
   },
   "outputs": [
    {
     "data": {
      "text/html": [
       "<div>\n",
       "<table border=\"1\" class=\"dataframe\">\n",
       "  <thead>\n",
       "    <tr style=\"text-align: right;\">\n",
       "      <th></th>\n",
       "      <th>tax_id</th>\n",
       "      <th>GeneID</th>\n",
       "      <th>Symbol</th>\n",
       "      <th>chromosome</th>\n",
       "      <th>map_location</th>\n",
       "      <th>type_of_gene</th>\n",
       "      <th>description</th>\n",
       "    </tr>\n",
       "  </thead>\n",
       "  <tbody>\n",
       "    <tr>\n",
       "      <th>0</th>\n",
       "      <td>9606</td>\n",
       "      <td>1</td>\n",
       "      <td>A1BG</td>\n",
       "      <td>19</td>\n",
       "      <td>19q13.4</td>\n",
       "      <td>protein-coding</td>\n",
       "      <td>alpha-1-B glycoprotein</td>\n",
       "    </tr>\n",
       "    <tr>\n",
       "      <th>1</th>\n",
       "      <td>9606</td>\n",
       "      <td>2</td>\n",
       "      <td>A2M</td>\n",
       "      <td>12</td>\n",
       "      <td>12p13.31</td>\n",
       "      <td>protein-coding</td>\n",
       "      <td>alpha-2-macroglobulin</td>\n",
       "    </tr>\n",
       "  </tbody>\n",
       "</table>\n",
       "</div>"
      ],
      "text/plain": [
       "   tax_id  GeneID Symbol chromosome map_location    type_of_gene  \\\n",
       "0    9606       1   A1BG         19      19q13.4  protein-coding   \n",
       "1    9606       2    A2M         12     12p13.31  protein-coding   \n",
       "\n",
       "              description  \n",
       "0  alpha-1-B glycoprotein  \n",
       "1   alpha-2-macroglobulin  "
      ]
     },
     "execution_count": 3,
     "metadata": {},
     "output_type": "execute_result"
    }
   ],
   "source": [
    "commit = 'a7362748a34211e5df6f2d185bb3246279760546'\n",
    "url = rawgit('dhimmel', 'entrez-gene', commit, 'data/genes-human.tsv')\n",
    "gene_df = pandas.read_table(url)\n",
    "gene_df = gene_df[gene_df.type_of_gene == 'protein-coding']\n",
    "coding_genes = set(gene_df.GeneID)\n",
    "gene_df.head(2)"
   ]
  },
  {
   "cell_type": "code",
   "execution_count": 4,
   "metadata": {
    "collapsed": false
   },
   "outputs": [],
   "source": [
    "for i, row in gene_df.iterrows():\n",
    "    if row.type_of_gene != 'protein-coding':\n",
    "        continue\n",
    "    data = {\n",
    "        'description': row['description'],\n",
    "        'source': 'Entrez Gene',\n",
    "        'url': 'http://identifiers.org/ncbigene/{}'.format(row.GeneID),\n",
    "        'license': 'CC0 1.0',\n",
    "    }\n",
    "    if pandas.notnull(row['chromosome']):\n",
    "        data['chromosome'] = row['chromosome']\n",
    "    graph.add_node(kind = 'Gene', identifier=row.GeneID, name=row.Symbol, data=data)"
   ]
  },
  {
   "cell_type": "markdown",
   "metadata": {},
   "source": [
    "## Disease Nodes"
   ]
  },
  {
   "cell_type": "code",
   "execution_count": 5,
   "metadata": {
    "collapsed": false
   },
   "outputs": [
    {
     "data": {
      "text/html": [
       "<div>\n",
       "<table border=\"1\" class=\"dataframe\">\n",
       "  <thead>\n",
       "    <tr style=\"text-align: right;\">\n",
       "      <th></th>\n",
       "      <th>doid</th>\n",
       "      <th>name</th>\n",
       "      <th>source</th>\n",
       "      <th>pathophysiology</th>\n",
       "    </tr>\n",
       "  </thead>\n",
       "  <tbody>\n",
       "    <tr>\n",
       "      <th>0</th>\n",
       "      <td>DOID:2531</td>\n",
       "      <td>hematologic cancer</td>\n",
       "      <td>DOcancerslim</td>\n",
       "      <td>neoplastic</td>\n",
       "    </tr>\n",
       "    <tr>\n",
       "      <th>1</th>\n",
       "      <td>DOID:1319</td>\n",
       "      <td>brain cancer</td>\n",
       "      <td>DOcancerslim</td>\n",
       "      <td>neoplastic</td>\n",
       "    </tr>\n",
       "  </tbody>\n",
       "</table>\n",
       "</div>"
      ],
      "text/plain": [
       "        doid                name        source pathophysiology\n",
       "0  DOID:2531  hematologic cancer  DOcancerslim      neoplastic\n",
       "1  DOID:1319        brain cancer  DOcancerslim      neoplastic"
      ]
     },
     "execution_count": 5,
     "metadata": {},
     "output_type": "execute_result"
    }
   ],
   "source": [
    "commit = '75050ea2d4f60e745d3f3578ae03560a2cc0e444'\n",
    "url = rawgit('dhimmel', 'disease-ontology', commit, 'data/slim-terms.tsv')\n",
    "disease_df = pandas.read_table(url)\n",
    "disease_df.head(2)"
   ]
  },
  {
   "cell_type": "code",
   "execution_count": 6,
   "metadata": {
    "collapsed": false
   },
   "outputs": [],
   "source": [
    "for i, row in disease_df.iterrows():\n",
    "    data = {\n",
    "        'source': 'Disease Ontology',\n",
    "        'url': obo_iri(row.doid),\n",
    "        'license': 'CC BY 3.0',\n",
    "    }\n",
    "    graph.add_node(kind='Disease', identifier=row.doid, name=row['name'], data=data)"
   ]
  },
  {
   "cell_type": "markdown",
   "metadata": {},
   "source": [
    "## Compound Nodes"
   ]
  },
  {
   "cell_type": "code",
   "execution_count": 7,
   "metadata": {
    "collapsed": false
   },
   "outputs": [
    {
     "data": {
      "text/html": [
       "<div>\n",
       "<table border=\"1\" class=\"dataframe\">\n",
       "  <thead>\n",
       "    <tr style=\"text-align: right;\">\n",
       "      <th></th>\n",
       "      <th>drugbank_id</th>\n",
       "      <th>name</th>\n",
       "      <th>type</th>\n",
       "      <th>groups</th>\n",
       "      <th>atc_codes</th>\n",
       "      <th>categories</th>\n",
       "      <th>inchikey</th>\n",
       "      <th>inchi</th>\n",
       "    </tr>\n",
       "  </thead>\n",
       "  <tbody>\n",
       "    <tr>\n",
       "      <th>0</th>\n",
       "      <td>DB00014</td>\n",
       "      <td>Goserelin</td>\n",
       "      <td>small molecule</td>\n",
       "      <td>approved</td>\n",
       "      <td>L02AE03</td>\n",
       "      <td>NaN</td>\n",
       "      <td>InChIKey=BLCLNMBMMGCOAS-URPVMXJPSA-N</td>\n",
       "      <td>InChI=1S/C59H84N18O14/c1-31(2)22-40(49(82)68-3...</td>\n",
       "    </tr>\n",
       "    <tr>\n",
       "      <th>1</th>\n",
       "      <td>DB00035</td>\n",
       "      <td>Desmopressin</td>\n",
       "      <td>small molecule</td>\n",
       "      <td>approved</td>\n",
       "      <td>H01BA02</td>\n",
       "      <td>Antidiuretic Agents|Hemostatics|Renal Agents</td>\n",
       "      <td>InChIKey=NFLWUMRGJYTJIN-NXBWRCJVSA-N</td>\n",
       "      <td>InChI=1S/C46H64N14O12S2/c47-35(62)15-14-29-40(...</td>\n",
       "    </tr>\n",
       "  </tbody>\n",
       "</table>\n",
       "</div>"
      ],
      "text/plain": [
       "  drugbank_id          name            type    groups atc_codes  \\\n",
       "0     DB00014     Goserelin  small molecule  approved   L02AE03   \n",
       "1     DB00035  Desmopressin  small molecule  approved   H01BA02   \n",
       "\n",
       "                                     categories  \\\n",
       "0                                           NaN   \n",
       "1  Antidiuretic Agents|Hemostatics|Renal Agents   \n",
       "\n",
       "                               inchikey  \\\n",
       "0  InChIKey=BLCLNMBMMGCOAS-URPVMXJPSA-N   \n",
       "1  InChIKey=NFLWUMRGJYTJIN-NXBWRCJVSA-N   \n",
       "\n",
       "                                               inchi  \n",
       "0  InChI=1S/C59H84N18O14/c1-31(2)22-40(49(82)68-3...  \n",
       "1  InChI=1S/C46H64N14O12S2/c47-35(62)15-14-29-40(...  "
      ]
     },
     "execution_count": 7,
     "metadata": {},
     "output_type": "execute_result"
    }
   ],
   "source": [
    "commit = '3e87872db5fca5ac427ce27464ab945c0ceb4ec6'\n",
    "url = rawgit('dhimmel', 'drugbank', commit, 'data/drugbank-slim.tsv')\n",
    "compound_df = pandas.read_table(url)\n",
    "compound_df.head(2)"
   ]
  },
  {
   "cell_type": "code",
   "execution_count": 8,
   "metadata": {
    "collapsed": false
   },
   "outputs": [],
   "source": [
    "for i, row in compound_df.iterrows():\n",
    "    url = 'http://www.drugbank.ca/drugs/' + row.drugbank_id\n",
    "    data = {\n",
    "        'source': 'DrugBank',\n",
    "        'inchikey': row.inchikey,\n",
    "        'inchi': row.inchi, 'url': url,\n",
    "        'license': 'CC BY-NC 4.0',\n",
    "    }\n",
    "    graph.add_node(kind='Compound', identifier=row.drugbank_id, name=row['name'], data=data)"
   ]
  },
  {
   "cell_type": "markdown",
   "metadata": {},
   "source": [
    "---"
   ]
  },
  {
   "cell_type": "markdown",
   "metadata": {},
   "source": [
    "## Disease-gene associations from compilation"
   ]
  },
  {
   "cell_type": "code",
   "execution_count": 9,
   "metadata": {
    "collapsed": false
   },
   "outputs": [
    {
     "data": {
      "text/html": [
       "<div>\n",
       "<table border=\"1\" class=\"dataframe\">\n",
       "  <thead>\n",
       "    <tr style=\"text-align: right;\">\n",
       "      <th></th>\n",
       "      <th>doid_id</th>\n",
       "      <th>doid_name</th>\n",
       "      <th>entrez_gene_id</th>\n",
       "      <th>gene_symbol</th>\n",
       "      <th>sources</th>\n",
       "      <th>license</th>\n",
       "    </tr>\n",
       "  </thead>\n",
       "  <tbody>\n",
       "    <tr>\n",
       "      <th>0</th>\n",
       "      <td>DOID:2531</td>\n",
       "      <td>Hematologic cancer</td>\n",
       "      <td>25</td>\n",
       "      <td>ABL1</td>\n",
       "      <td>DISEASES|DisGeNET</td>\n",
       "      <td>NaN</td>\n",
       "    </tr>\n",
       "    <tr>\n",
       "      <th>1</th>\n",
       "      <td>DOID:2531</td>\n",
       "      <td>Hematologic cancer</td>\n",
       "      <td>27</td>\n",
       "      <td>ABL2</td>\n",
       "      <td>DisGeNET</td>\n",
       "      <td>ODbL 1.0</td>\n",
       "    </tr>\n",
       "  </tbody>\n",
       "</table>\n",
       "</div>"
      ],
      "text/plain": [
       "     doid_id           doid_name  entrez_gene_id gene_symbol  \\\n",
       "0  DOID:2531  Hematologic cancer              25        ABL1   \n",
       "1  DOID:2531  Hematologic cancer              27        ABL2   \n",
       "\n",
       "             sources   license  \n",
       "0  DISEASES|DisGeNET       NaN  \n",
       "1           DisGeNET  ODbL 1.0  "
      ]
     },
     "execution_count": 9,
     "metadata": {},
     "output_type": "execute_result"
    }
   ],
   "source": [
    "association_df = pandas.read_table('compile/DaG-association.tsv')\n",
    "association_df.head(2)"
   ]
  },
  {
   "cell_type": "code",
   "execution_count": 10,
   "metadata": {
    "collapsed": true
   },
   "outputs": [],
   "source": [
    "for i, row in association_df.iterrows():\n",
    "    source_id = 'Disease', row.doid_id\n",
    "    target_id = 'Gene', row.entrez_gene_id\n",
    "    sources = sorted(row.sources.split('|'))\n",
    "    data = {'sources': sources, 'unbiased': 'GWAS Catalog' in sources}\n",
    "    if pandas.notnull(row['license']):\n",
    "        data['license'] = row['license']\n",
    "    graph.add_edge(source_id, target_id, 'associates', 'both', data)"
   ]
  },
  {
   "cell_type": "markdown",
   "metadata": {},
   "source": [
    "## Disease-gene differential expression"
   ]
  },
  {
   "cell_type": "code",
   "execution_count": 11,
   "metadata": {
    "collapsed": false
   },
   "outputs": [
    {
     "data": {
      "text/html": [
       "<div>\n",
       "<table border=\"1\" class=\"dataframe\">\n",
       "  <thead>\n",
       "    <tr style=\"text-align: right;\">\n",
       "      <th></th>\n",
       "      <th>slim_id</th>\n",
       "      <th>slim_name</th>\n",
       "      <th>entrez_gene_id</th>\n",
       "      <th>gene_symbol</th>\n",
       "      <th>direction</th>\n",
       "      <th>log2_fold_change</th>\n",
       "      <th>p_adjusted</th>\n",
       "    </tr>\n",
       "  </thead>\n",
       "  <tbody>\n",
       "    <tr>\n",
       "      <th>0</th>\n",
       "      <td>DOID:0050156</td>\n",
       "      <td>idiopathic pulmonary fibrosis</td>\n",
       "      <td>55768</td>\n",
       "      <td>NGLY1</td>\n",
       "      <td>down</td>\n",
       "      <td>-0.004826</td>\n",
       "      <td>0.0</td>\n",
       "    </tr>\n",
       "    <tr>\n",
       "      <th>1</th>\n",
       "      <td>DOID:0050156</td>\n",
       "      <td>idiopathic pulmonary fibrosis</td>\n",
       "      <td>4927</td>\n",
       "      <td>NUP88</td>\n",
       "      <td>down</td>\n",
       "      <td>-0.005913</td>\n",
       "      <td>0.0</td>\n",
       "    </tr>\n",
       "  </tbody>\n",
       "</table>\n",
       "</div>"
      ],
      "text/plain": [
       "        slim_id                      slim_name  entrez_gene_id gene_symbol  \\\n",
       "0  DOID:0050156  idiopathic pulmonary fibrosis           55768       NGLY1   \n",
       "1  DOID:0050156  idiopathic pulmonary fibrosis            4927       NUP88   \n",
       "\n",
       "  direction  log2_fold_change  p_adjusted  \n",
       "0      down         -0.004826         0.0  \n",
       "1      down         -0.005913         0.0  "
      ]
     },
     "execution_count": 11,
     "metadata": {},
     "output_type": "execute_result"
    }
   ],
   "source": [
    "commit = '1a11633b5e0095454453335be82012a9f0f482e4'\n",
    "url = rawgit('dhimmel', 'stargeo', commit, 'data/diffex.tsv')\n",
    "stargeo_df = pandas.read_table(url)\n",
    "# Filter to at most 250 up and 250 down-regulated genes per disease\n",
    "stargeo_df = stargeo_df.groupby(['slim_id', 'direction']).apply(\n",
    "    lambda df: df.nsmallest(250, 'p_adjusted')).reset_index(drop=True)\n",
    "stargeo_df.head(2)"
   ]
  },
  {
   "cell_type": "code",
   "execution_count": 12,
   "metadata": {
    "collapsed": true
   },
   "outputs": [],
   "source": [
    "for row in stargeo_df.itertuples():\n",
    "    source_id = 'Disease', row.slim_id\n",
    "    target_id = 'Gene', row.entrez_gene_id\n",
    "    kind = row.direction + 'regulates'\n",
    "    data = {\n",
    "        'source': 'STARGEO',\n",
    "        'log2_fold_change': round(row.log2_fold_change, 5),\n",
    "        'unbiased': True,\n",
    "        'license': 'CC0 1.0'\n",
    "    }\n",
    "    graph.add_edge(source_id, target_id, kind, 'both', data)"
   ]
  },
  {
   "cell_type": "markdown",
   "metadata": {},
   "source": [
    "## Chemical Similarity"
   ]
  },
  {
   "cell_type": "code",
   "execution_count": 13,
   "metadata": {
    "collapsed": false
   },
   "outputs": [
    {
     "data": {
      "text/html": [
       "<div>\n",
       "<table border=\"1\" class=\"dataframe\">\n",
       "  <thead>\n",
       "    <tr style=\"text-align: right;\">\n",
       "      <th></th>\n",
       "      <th>compound0</th>\n",
       "      <th>compound1</th>\n",
       "      <th>similarity</th>\n",
       "    </tr>\n",
       "  </thead>\n",
       "  <tbody>\n",
       "    <tr>\n",
       "      <th>1557</th>\n",
       "      <td>DB01489</td>\n",
       "      <td>DB00683</td>\n",
       "      <td>0.5362</td>\n",
       "    </tr>\n",
       "    <tr>\n",
       "      <th>1571</th>\n",
       "      <td>DB01489</td>\n",
       "      <td>DB01567</td>\n",
       "      <td>0.6260</td>\n",
       "    </tr>\n",
       "  </tbody>\n",
       "</table>\n",
       "</div>"
      ],
      "text/plain": [
       "     compound0 compound1  similarity\n",
       "1557   DB01489   DB00683      0.5362\n",
       "1571   DB01489   DB01567      0.6260"
      ]
     },
     "execution_count": 13,
     "metadata": {},
     "output_type": "execute_result"
    }
   ],
   "source": [
    "commit = '3e87872db5fca5ac427ce27464ab945c0ceb4ec6'\n",
    "url = rawgit('dhimmel', 'drugbank', commit, 'data/similarity-slim.tsv.gz')\n",
    "chemical_df = pandas.read_table(url, compression='gzip')\n",
    "chemical_df = chemical_df[chemical_df.similarity >= 0.5]\n",
    "chemical_df.head(2)"
   ]
  },
  {
   "cell_type": "code",
   "execution_count": 14,
   "metadata": {
    "collapsed": false
   },
   "outputs": [],
   "source": [
    "for i, row in chemical_df.iterrows():\n",
    "    source_id = 'Compound', row.compound0\n",
    "    target_id = 'Compound', row.compound1\n",
    "    data = {\n",
    "        'source': 'Dice similarity of ECFPs',\n",
    "        'similarity': round(row.similarity, 4),\n",
    "        'unbiased': True,\n",
    "        'license': 'CC0 1.0',\n",
    "    }\n",
    "    graph.add_edge(source_id, target_id, 'resembles', 'both', data)"
   ]
  },
  {
   "cell_type": "markdown",
   "metadata": {},
   "source": [
    "## MEDLINE cooccurrence data"
   ]
  },
  {
   "cell_type": "code",
   "execution_count": 15,
   "metadata": {
    "collapsed": true
   },
   "outputs": [],
   "source": [
    "medline_data = {\n",
    "    'source': 'MEDLINE cooccurrence',\n",
    "    'unbiased': False,\n",
    "    'license': 'CC0 1.0',\n",
    "}"
   ]
  },
  {
   "cell_type": "markdown",
   "metadata": {},
   "source": [
    "## Disease-disease similarity"
   ]
  },
  {
   "cell_type": "code",
   "execution_count": 16,
   "metadata": {
    "collapsed": false
   },
   "outputs": [
    {
     "data": {
      "text/html": [
       "<div>\n",
       "<table border=\"1\" class=\"dataframe\">\n",
       "  <thead>\n",
       "    <tr style=\"text-align: right;\">\n",
       "      <th></th>\n",
       "      <th>doid_code_0</th>\n",
       "      <th>doid_name_0</th>\n",
       "      <th>doid_code_1</th>\n",
       "      <th>doid_name_1</th>\n",
       "      <th>cooccurrence</th>\n",
       "      <th>expected</th>\n",
       "      <th>enrichment</th>\n",
       "      <th>odds_ratio</th>\n",
       "      <th>p_fisher</th>\n",
       "    </tr>\n",
       "  </thead>\n",
       "  <tbody>\n",
       "    <tr>\n",
       "      <th>0</th>\n",
       "      <td>DOID:10652</td>\n",
       "      <td>Alzheimer's disease</td>\n",
       "      <td>DOID:14330</td>\n",
       "      <td>Parkinson's disease</td>\n",
       "      <td>2760</td>\n",
       "      <td>827.098152</td>\n",
       "      <td>3.336968</td>\n",
       "      <td>3.577398</td>\n",
       "      <td>0.000000e+00</td>\n",
       "    </tr>\n",
       "    <tr>\n",
       "      <th>1</th>\n",
       "      <td>DOID:10652</td>\n",
       "      <td>Alzheimer's disease</td>\n",
       "      <td>DOID:11949</td>\n",
       "      <td>Creutzfeldt-Jakob disease</td>\n",
       "      <td>332</td>\n",
       "      <td>96.723002</td>\n",
       "      <td>3.432482</td>\n",
       "      <td>3.593306</td>\n",
       "      <td>3.377672e-80</td>\n",
       "    </tr>\n",
       "  </tbody>\n",
       "</table>\n",
       "</div>"
      ],
      "text/plain": [
       "  doid_code_0          doid_name_0 doid_code_1                doid_name_1  \\\n",
       "0  DOID:10652  Alzheimer's disease  DOID:14330        Parkinson's disease   \n",
       "1  DOID:10652  Alzheimer's disease  DOID:11949  Creutzfeldt-Jakob disease   \n",
       "\n",
       "   cooccurrence    expected  enrichment  odds_ratio      p_fisher  \n",
       "0          2760  827.098152    3.336968    3.577398  0.000000e+00  \n",
       "1           332   96.723002    3.432482    3.593306  3.377672e-80  "
      ]
     },
     "execution_count": 16,
     "metadata": {},
     "output_type": "execute_result"
    }
   ],
   "source": [
    "commit = '60d611892bf387b5b23c5f2e2e3bc472cfce85f3'\n",
    "url = rawgit('dhimmel', 'medline', commit, 'data/disease-disease-cooccurrence.tsv')\n",
    "disease_similarity_df = pandas.read_table(url)\n",
    "disease_similarity_df = disease_similarity_df[-disease_similarity_df[['doid_code_0', 'doid_code_1']].apply(frozenset, 1).duplicated()]\n",
    "disease_similarity_df = disease_similarity_df[disease_similarity_df.p_fisher < 0.005]\n",
    "disease_similarity_df.head(2)"
   ]
  },
  {
   "cell_type": "code",
   "execution_count": 17,
   "metadata": {
    "collapsed": false
   },
   "outputs": [],
   "source": [
    "for i, row in disease_similarity_df.iterrows():\n",
    "    source_id = 'Disease', row.doid_code_0\n",
    "    target_id = 'Disease', row.doid_code_1\n",
    "    data = medline_data.copy()\n",
    "    graph.add_edge(source_id, target_id, 'resembles', 'both', data)"
   ]
  },
  {
   "cell_type": "markdown",
   "metadata": {},
   "source": [
    "## Compound bindings"
   ]
  },
  {
   "cell_type": "code",
   "execution_count": 18,
   "metadata": {
    "collapsed": false
   },
   "outputs": [
    {
     "data": {
      "text/html": [
       "<div>\n",
       "<table border=\"1\" class=\"dataframe\">\n",
       "  <thead>\n",
       "    <tr style=\"text-align: right;\">\n",
       "      <th></th>\n",
       "      <th>drugbank_id</th>\n",
       "      <th>entrez_gene_id</th>\n",
       "      <th>sources</th>\n",
       "      <th>pubmed_ids</th>\n",
       "      <th>actions</th>\n",
       "      <th>affinity_nM</th>\n",
       "      <th>license</th>\n",
       "      <th>urls</th>\n",
       "    </tr>\n",
       "  </thead>\n",
       "  <tbody>\n",
       "    <tr>\n",
       "      <th>0</th>\n",
       "      <td>DB00014</td>\n",
       "      <td>2798</td>\n",
       "      <td>DrugBank (target)|DrugCentral (ChEMBL)</td>\n",
       "      <td>20053189</td>\n",
       "      <td>agonist</td>\n",
       "      <td>NaN</td>\n",
       "      <td>CC BY-NC 4.0</td>\n",
       "      <td>https://www.ebi.ac.uk/chembl/compound/inspect/...</td>\n",
       "    </tr>\n",
       "    <tr>\n",
       "      <th>1</th>\n",
       "      <td>DB00014</td>\n",
       "      <td>3973</td>\n",
       "      <td>DrugBank (target)</td>\n",
       "      <td>17016423|17139284|20053189</td>\n",
       "      <td>agonist</td>\n",
       "      <td>NaN</td>\n",
       "      <td>CC BY-NC 4.0</td>\n",
       "      <td>NaN</td>\n",
       "    </tr>\n",
       "  </tbody>\n",
       "</table>\n",
       "</div>"
      ],
      "text/plain": [
       "  drugbank_id  entrez_gene_id                                 sources  \\\n",
       "0     DB00014            2798  DrugBank (target)|DrugCentral (ChEMBL)   \n",
       "1     DB00014            3973                       DrugBank (target)   \n",
       "\n",
       "                   pubmed_ids  actions  affinity_nM       license  \\\n",
       "0                    20053189  agonist          NaN  CC BY-NC 4.0   \n",
       "1  17016423|17139284|20053189  agonist          NaN  CC BY-NC 4.0   \n",
       "\n",
       "                                                urls  \n",
       "0  https://www.ebi.ac.uk/chembl/compound/inspect/...  \n",
       "1                                                NaN  "
      ]
     },
     "execution_count": 18,
     "metadata": {},
     "output_type": "execute_result"
    }
   ],
   "source": [
    "binding_df = pandas.read_table('compile/CbG-binding.tsv')\n",
    "binding_df = binding_df.merge(compound_df[['drugbank_id']])\n",
    "binding_df = binding_df[binding_df.entrez_gene_id.isin(coding_genes)]\n",
    "binding_df.head(2)"
   ]
  },
  {
   "cell_type": "code",
   "execution_count": 19,
   "metadata": {
    "collapsed": false
   },
   "outputs": [],
   "source": [
    "for i, row in binding_df.iterrows():\n",
    "    source_id = 'Compound', row.drugbank_id\n",
    "    target_id = 'Gene', row.entrez_gene_id\n",
    "    data = {'unbiased': False}\n",
    "    # singular fields\n",
    "    for key in 'affinity_nM', 'license':\n",
    "        value = row[key]\n",
    "        if pandas.notnull(value):\n",
    "            data[key] = value\n",
    "    # compound fields\n",
    "    for key in 'sources', 'pubmed_ids', 'actions', 'urls':\n",
    "        value = row[key]\n",
    "        if pandas.notnull(value):\n",
    "            data[key] = value.split('|')\n",
    "    graph.add_edge(source_id, target_id, 'binds', 'both', data)"
   ]
  },
  {
   "cell_type": "markdown",
   "metadata": {},
   "source": [
    "## Indications from the PharmacotherapyDB"
   ]
  },
  {
   "cell_type": "code",
   "execution_count": 20,
   "metadata": {
    "collapsed": true
   },
   "outputs": [],
   "source": [
    "with open(\"../crossval_idx.txt\", \"r\") as fin:\n",
    "    piece_idx = int(fin.read().strip())"
   ]
  },
  {
   "cell_type": "code",
   "execution_count": 21,
   "metadata": {
    "collapsed": false
   },
   "outputs": [
    {
     "data": {
      "text/plain": [
       "0"
      ]
     },
     "execution_count": 21,
     "metadata": {},
     "output_type": "execute_result"
    }
   ],
   "source": [
    "piece_idx"
   ]
  },
  {
   "cell_type": "code",
   "execution_count": 22,
   "metadata": {
    "collapsed": false
   },
   "outputs": [],
   "source": [
    "# choose one subset of the data to use\n",
    "floc = \"~/crossval/data/training/training_piece{}.tsv\".format(piece_idx)\n",
    "indication_df = pandas.read_csv(floc, sep = '\\t')"
   ]
  },
  {
   "cell_type": "code",
   "execution_count": 23,
   "metadata": {
    "collapsed": false
   },
   "outputs": [
    {
     "data": {
      "text/plain": [
       "(38982, 8)"
      ]
     },
     "execution_count": 23,
     "metadata": {},
     "output_type": "execute_result"
    }
   ],
   "source": [
    "indication_df.shape"
   ]
  },
  {
   "cell_type": "code",
   "execution_count": 24,
   "metadata": {
    "collapsed": false
   },
   "outputs": [
    {
     "data": {
      "text/html": [
       "<div>\n",
       "<table border=\"1\" class=\"dataframe\">\n",
       "  <thead>\n",
       "    <tr style=\"text-align: right;\">\n",
       "      <th></th>\n",
       "      <th>category</th>\n",
       "      <th>disease</th>\n",
       "      <th>doid_id</th>\n",
       "      <th>drug</th>\n",
       "      <th>drugbank_id</th>\n",
       "      <th>n_curators</th>\n",
       "      <th>n_resources</th>\n",
       "      <th>piece</th>\n",
       "    </tr>\n",
       "  </thead>\n",
       "  <tbody>\n",
       "    <tr>\n",
       "      <th>0</th>\n",
       "      <td>NaN</td>\n",
       "      <td>NaN</td>\n",
       "      <td>DOID:0050742</td>\n",
       "      <td>NaN</td>\n",
       "      <td>DB00014</td>\n",
       "      <td>NaN</td>\n",
       "      <td>NaN</td>\n",
       "      <td>NaN</td>\n",
       "    </tr>\n",
       "    <tr>\n",
       "      <th>1</th>\n",
       "      <td>NaN</td>\n",
       "      <td>NaN</td>\n",
       "      <td>DOID:0060073</td>\n",
       "      <td>NaN</td>\n",
       "      <td>DB00014</td>\n",
       "      <td>NaN</td>\n",
       "      <td>NaN</td>\n",
       "      <td>NaN</td>\n",
       "    </tr>\n",
       "    <tr>\n",
       "      <th>2</th>\n",
       "      <td>DM</td>\n",
       "      <td>prostate cancer</td>\n",
       "      <td>DOID:10283</td>\n",
       "      <td>Goserelin</td>\n",
       "      <td>DB00014</td>\n",
       "      <td>3.0</td>\n",
       "      <td>2.0</td>\n",
       "      <td>2.0</td>\n",
       "    </tr>\n",
       "    <tr>\n",
       "      <th>3</th>\n",
       "      <td>NaN</td>\n",
       "      <td>NaN</td>\n",
       "      <td>DOID:11714</td>\n",
       "      <td>NaN</td>\n",
       "      <td>DB00014</td>\n",
       "      <td>NaN</td>\n",
       "      <td>NaN</td>\n",
       "      <td>NaN</td>\n",
       "    </tr>\n",
       "    <tr>\n",
       "      <th>4</th>\n",
       "      <td>NaN</td>\n",
       "      <td>NaN</td>\n",
       "      <td>DOID:12995</td>\n",
       "      <td>NaN</td>\n",
       "      <td>DB00014</td>\n",
       "      <td>NaN</td>\n",
       "      <td>NaN</td>\n",
       "      <td>NaN</td>\n",
       "    </tr>\n",
       "  </tbody>\n",
       "</table>\n",
       "</div>"
      ],
      "text/plain": [
       "  category          disease       doid_id       drug drugbank_id  n_curators  \\\n",
       "0      NaN              NaN  DOID:0050742        NaN     DB00014         NaN   \n",
       "1      NaN              NaN  DOID:0060073        NaN     DB00014         NaN   \n",
       "2       DM  prostate cancer    DOID:10283  Goserelin     DB00014         3.0   \n",
       "3      NaN              NaN    DOID:11714        NaN     DB00014         NaN   \n",
       "4      NaN              NaN    DOID:12995        NaN     DB00014         NaN   \n",
       "\n",
       "   n_resources  piece  \n",
       "0          NaN    NaN  \n",
       "1          NaN    NaN  \n",
       "2          2.0    2.0  \n",
       "3          NaN    NaN  \n",
       "4          NaN    NaN  "
      ]
     },
     "execution_count": 24,
     "metadata": {},
     "output_type": "execute_result"
    }
   ],
   "source": [
    "indication_df.head()"
   ]
  },
  {
   "cell_type": "code",
   "execution_count": 25,
   "metadata": {
    "collapsed": false
   },
   "outputs": [
    {
     "data": {
      "text/plain": [
       "DM     592\n",
       "SYM    311\n",
       "NOT    194\n",
       "Name: category, dtype: int64"
      ]
     },
     "execution_count": 25,
     "metadata": {},
     "output_type": "execute_result"
    }
   ],
   "source": [
    "indication_df[\"category\"].value_counts()"
   ]
  },
  {
   "cell_type": "code",
   "execution_count": 26,
   "metadata": {
    "collapsed": false
   },
   "outputs": [],
   "source": [
    "categories = {'DM'}\n",
    "\n",
    "indication_df = indication_df.query(\"category in @categories\").copy()\n",
    "\n",
    "indication_df['kind'] = indication_df.category.map({'DM': 'treats', 'SYM': 'palliates'})"
   ]
  },
  {
   "cell_type": "code",
   "execution_count": 27,
   "metadata": {
    "collapsed": false
   },
   "outputs": [
    {
     "data": {
      "text/plain": [
       "(592, 9)"
      ]
     },
     "execution_count": 27,
     "metadata": {},
     "output_type": "execute_result"
    }
   ],
   "source": [
    "indication_df.shape"
   ]
  },
  {
   "cell_type": "code",
   "execution_count": 28,
   "metadata": {
    "collapsed": false
   },
   "outputs": [
    {
     "data": {
      "text/html": [
       "<div>\n",
       "<table border=\"1\" class=\"dataframe\">\n",
       "  <thead>\n",
       "    <tr style=\"text-align: right;\">\n",
       "      <th></th>\n",
       "      <th>category</th>\n",
       "      <th>disease</th>\n",
       "      <th>doid_id</th>\n",
       "      <th>drug</th>\n",
       "      <th>drugbank_id</th>\n",
       "      <th>n_curators</th>\n",
       "      <th>n_resources</th>\n",
       "      <th>piece</th>\n",
       "      <th>kind</th>\n",
       "    </tr>\n",
       "  </thead>\n",
       "  <tbody>\n",
       "    <tr>\n",
       "      <th>2</th>\n",
       "      <td>DM</td>\n",
       "      <td>prostate cancer</td>\n",
       "      <td>DOID:10283</td>\n",
       "      <td>Goserelin</td>\n",
       "      <td>DB00014</td>\n",
       "      <td>3.0</td>\n",
       "      <td>2.0</td>\n",
       "      <td>2.0</td>\n",
       "      <td>treats</td>\n",
       "    </tr>\n",
       "    <tr>\n",
       "      <th>25</th>\n",
       "      <td>DM</td>\n",
       "      <td>focal segmental glomerulosclerosis</td>\n",
       "      <td>DOID:1312</td>\n",
       "      <td>Cyclosporine</td>\n",
       "      <td>DB00091</td>\n",
       "      <td>3.0</td>\n",
       "      <td>1.0</td>\n",
       "      <td>4.0</td>\n",
       "      <td>treats</td>\n",
       "    </tr>\n",
       "    <tr>\n",
       "      <th>36</th>\n",
       "      <td>DM</td>\n",
       "      <td>rheumatoid arthritis</td>\n",
       "      <td>DOID:7148</td>\n",
       "      <td>Cyclosporine</td>\n",
       "      <td>DB00091</td>\n",
       "      <td>3.0</td>\n",
       "      <td>2.0</td>\n",
       "      <td>4.0</td>\n",
       "      <td>treats</td>\n",
       "    </tr>\n",
       "    <tr>\n",
       "      <th>39</th>\n",
       "      <td>DM</td>\n",
       "      <td>psoriasis</td>\n",
       "      <td>DOID:8893</td>\n",
       "      <td>Cyclosporine</td>\n",
       "      <td>DB00091</td>\n",
       "      <td>3.0</td>\n",
       "      <td>2.0</td>\n",
       "      <td>4.0</td>\n",
       "      <td>treats</td>\n",
       "    </tr>\n",
       "    <tr>\n",
       "      <th>100</th>\n",
       "      <td>DM</td>\n",
       "      <td>thymus cancer</td>\n",
       "      <td>DOID:3277</td>\n",
       "      <td>Octreotide</td>\n",
       "      <td>DB00104</td>\n",
       "      <td>2.0</td>\n",
       "      <td>1.0</td>\n",
       "      <td>3.0</td>\n",
       "      <td>treats</td>\n",
       "    </tr>\n",
       "  </tbody>\n",
       "</table>\n",
       "</div>"
      ],
      "text/plain": [
       "    category                             disease     doid_id          drug  \\\n",
       "2         DM                     prostate cancer  DOID:10283     Goserelin   \n",
       "25        DM  focal segmental glomerulosclerosis   DOID:1312  Cyclosporine   \n",
       "36        DM                rheumatoid arthritis   DOID:7148  Cyclosporine   \n",
       "39        DM                           psoriasis   DOID:8893  Cyclosporine   \n",
       "100       DM                       thymus cancer   DOID:3277    Octreotide   \n",
       "\n",
       "    drugbank_id  n_curators  n_resources  piece    kind  \n",
       "2       DB00014         3.0          2.0    2.0  treats  \n",
       "25      DB00091         3.0          1.0    4.0  treats  \n",
       "36      DB00091         3.0          2.0    4.0  treats  \n",
       "39      DB00091         3.0          2.0    4.0  treats  \n",
       "100     DB00104         2.0          1.0    3.0  treats  "
      ]
     },
     "execution_count": 28,
     "metadata": {},
     "output_type": "execute_result"
    }
   ],
   "source": [
    "indication_df.head()"
   ]
  },
  {
   "cell_type": "code",
   "execution_count": 29,
   "metadata": {
    "collapsed": false
   },
   "outputs": [
    {
     "data": {
      "text/plain": [
       "73"
      ]
     },
     "execution_count": 29,
     "metadata": {},
     "output_type": "execute_result"
    }
   ],
   "source": [
    "indication_df[\"doid_id\"].nunique()"
   ]
  },
  {
   "cell_type": "code",
   "execution_count": 30,
   "metadata": {
    "collapsed": false
   },
   "outputs": [
    {
     "data": {
      "text/plain": [
       "323"
      ]
     },
     "execution_count": 30,
     "metadata": {},
     "output_type": "execute_result"
    }
   ],
   "source": [
    "indication_df[\"drugbank_id\"].nunique()"
   ]
  },
  {
   "cell_type": "markdown",
   "metadata": {},
   "source": [
    "### Add to graph"
   ]
  },
  {
   "cell_type": "code",
   "execution_count": 31,
   "metadata": {
    "collapsed": true
   },
   "outputs": [],
   "source": [
    "for i, row in indication_df.iterrows():\n",
    "    source_id = ('Disease', row.doid_id)\n",
    "    target_id = ('Compound', row.drugbank_id)\n",
    "    data = {'source': 'PharmacotherapyDB', 'unbiased': False, 'license': 'CC0 1.0'}\n",
    "    graph.add_edge(source_id, target_id, row['kind'], 'both', data)"
   ]
  },
  {
   "cell_type": "markdown",
   "metadata": {},
   "source": [
    "## LINCS L1000 relationships"
   ]
  },
  {
   "cell_type": "code",
   "execution_count": 32,
   "metadata": {
    "collapsed": true
   },
   "outputs": [],
   "source": [
    "commit = 'abcb12f942f93e3ee839e5e3593f930df2c56845'"
   ]
  },
  {
   "cell_type": "code",
   "execution_count": 33,
   "metadata": {
    "collapsed": true
   },
   "outputs": [],
   "source": [
    "def filter_l1000_df(df, n):\n",
    "    \"\"\"\n",
    "    Filter LINCS L1000 differentially expression genes to at most `n` genes\n",
    "    per perturbagen-direction-status combination.\n",
    "    \"\"\"\n",
    "    df = df.groupby(['perturbagen', 'direction', 'status']).apply(\n",
    "        lambda x: x.nlargest(n, 'nlog10_bonferroni_pval')).reset_index(drop=True)\n",
    "    return df"
   ]
  },
  {
   "cell_type": "markdown",
   "metadata": {},
   "source": [
    "## LINCS compound-gene dysregulation"
   ]
  },
  {
   "cell_type": "code",
   "execution_count": 34,
   "metadata": {
    "collapsed": false
   },
   "outputs": [
    {
     "data": {
      "text/html": [
       "<div>\n",
       "<table border=\"1\" class=\"dataframe\">\n",
       "  <thead>\n",
       "    <tr style=\"text-align: right;\">\n",
       "      <th></th>\n",
       "      <th>perturbagen</th>\n",
       "      <th>entrez_gene_id</th>\n",
       "      <th>z_score</th>\n",
       "      <th>symbol</th>\n",
       "      <th>status</th>\n",
       "      <th>direction</th>\n",
       "      <th>nlog10_bonferroni_pval</th>\n",
       "    </tr>\n",
       "  </thead>\n",
       "  <tbody>\n",
       "    <tr>\n",
       "      <th>180454</th>\n",
       "      <td>DB09020</td>\n",
       "      <td>3895</td>\n",
       "      <td>4.077</td>\n",
       "      <td>KTN1</td>\n",
       "      <td>measured</td>\n",
       "      <td>up</td>\n",
       "      <td>1.351</td>\n",
       "    </tr>\n",
       "    <tr>\n",
       "      <th>180455</th>\n",
       "      <td>DB09020</td>\n",
       "      <td>23368</td>\n",
       "      <td>4.062</td>\n",
       "      <td>PPP1R13B</td>\n",
       "      <td>measured</td>\n",
       "      <td>up</td>\n",
       "      <td>1.323</td>\n",
       "    </tr>\n",
       "  </tbody>\n",
       "</table>\n",
       "</div>"
      ],
      "text/plain": [
       "       perturbagen  entrez_gene_id  z_score    symbol    status direction  \\\n",
       "180454     DB09020            3895    4.077      KTN1  measured        up   \n",
       "180455     DB09020           23368    4.062  PPP1R13B  measured        up   \n",
       "\n",
       "        nlog10_bonferroni_pval  \n",
       "180454                   1.351  \n",
       "180455                   1.323  "
      ]
     },
     "execution_count": 34,
     "metadata": {},
     "output_type": "execute_result"
    }
   ],
   "source": [
    "url = rawgit('dhimmel', 'lincs', commit, 'data/consensi/signif/dysreg-drugbank.tsv')\n",
    "l1000_df = pandas.read_table(url)\n",
    "l1000_df = l1000_df.query(\"perturbagen in @compound_df.drugbank_id and entrez_gene_id in @coding_genes\")\n",
    "l1000_df = filter_l1000_df(l1000_df, n=125)\n",
    "l1000_df.tail(2)"
   ]
  },
  {
   "cell_type": "code",
   "execution_count": 35,
   "metadata": {
    "collapsed": true
   },
   "outputs": [],
   "source": [
    "mapper = {'up': 'upregulates', 'down': 'downregulates'}\n",
    "for row in l1000_df.itertuples():\n",
    "    source_id = 'Compound', row.perturbagen\n",
    "    target_id = 'Gene', row.entrez_gene_id\n",
    "    data = {\n",
    "        'source': 'LINCS L1000',\n",
    "        'z_score': round(row.z_score, 3),\n",
    "        'method': row.status,\n",
    "        'unbiased': True,\n",
    "    }\n",
    "    kind = mapper[row.direction]\n",
    "    graph.add_edge(source_id, target_id, kind, 'both', data)"
   ]
  },
  {
   "cell_type": "markdown",
   "metadata": {},
   "source": [
    "## Network visualizations and stats"
   ]
  },
  {
   "cell_type": "code",
   "execution_count": 36,
   "metadata": {
    "collapsed": false
   },
   "outputs": [],
   "source": [
    "# Export node degree tables\n",
    "hetio.stats.degrees_to_excel(graph, 'data/summary/degrees.xlsx')"
   ]
  },
  {
   "cell_type": "code",
   "execution_count": 37,
   "metadata": {
    "collapsed": false,
    "scrolled": true
   },
   "outputs": [],
   "source": [
    "# Create and save degree distribution vizualizations\n",
    "# hetio.stats.plot_degrees(graph, 'viz/degrees.pdf')"
   ]
  },
  {
   "cell_type": "code",
   "execution_count": 38,
   "metadata": {
    "collapsed": false
   },
   "outputs": [
    {
     "data": {
      "text/html": [
       "<div>\n",
       "<table border=\"1\" class=\"dataframe\">\n",
       "  <thead>\n",
       "    <tr style=\"text-align: right;\">\n",
       "      <th></th>\n",
       "      <th>metanode</th>\n",
       "      <th>abbreviation</th>\n",
       "      <th>metaedges</th>\n",
       "      <th>nodes</th>\n",
       "      <th>unconnected_nodes</th>\n",
       "    </tr>\n",
       "  </thead>\n",
       "  <tbody>\n",
       "    <tr>\n",
       "      <th>1</th>\n",
       "      <td>Compound</td>\n",
       "      <td>C</td>\n",
       "      <td>6</td>\n",
       "      <td>1552</td>\n",
       "      <td>28</td>\n",
       "    </tr>\n",
       "    <tr>\n",
       "      <th>2</th>\n",
       "      <td>Disease</td>\n",
       "      <td>D</td>\n",
       "      <td>6</td>\n",
       "      <td>137</td>\n",
       "      <td>1</td>\n",
       "    </tr>\n",
       "    <tr>\n",
       "      <th>0</th>\n",
       "      <td>Gene</td>\n",
       "      <td>G</td>\n",
       "      <td>6</td>\n",
       "      <td>20945</td>\n",
       "      <td>7316</td>\n",
       "    </tr>\n",
       "  </tbody>\n",
       "</table>\n",
       "</div>"
      ],
      "text/plain": [
       "   metanode abbreviation  metaedges  nodes  unconnected_nodes\n",
       "1  Compound            C          6   1552                 28\n",
       "2   Disease            D          6    137                  1\n",
       "0      Gene            G          6  20945               7316"
      ]
     },
     "execution_count": 38,
     "metadata": {},
     "output_type": "execute_result"
    }
   ],
   "source": [
    "# Summary of metanodes and cooresponding nodes\n",
    "metanode_df = hetio.stats.get_metanode_df(graph)\n",
    "metanode_df.to_csv('data/summary/metanodes.tsv', sep='\\t', index=False)\n",
    "metanode_df"
   ]
  },
  {
   "cell_type": "code",
   "execution_count": 39,
   "metadata": {
    "collapsed": false
   },
   "outputs": [
    {
     "data": {
      "text/plain": [
       "22634"
      ]
     },
     "execution_count": 39,
     "metadata": {},
     "output_type": "execute_result"
    }
   ],
   "source": [
    "# Total number of nodes\n",
    "metanode_df.nodes.sum()"
   ]
  },
  {
   "cell_type": "code",
   "execution_count": 40,
   "metadata": {
    "collapsed": false
   },
   "outputs": [
    {
     "data": {
      "text/html": [
       "<div>\n",
       "<table border=\"1\" class=\"dataframe\">\n",
       "  <thead>\n",
       "    <tr style=\"text-align: right;\">\n",
       "      <th></th>\n",
       "      <th>metaedge</th>\n",
       "      <th>abbreviation</th>\n",
       "      <th>edges</th>\n",
       "      <th>source_nodes</th>\n",
       "      <th>target_nodes</th>\n",
       "      <th>unbiased</th>\n",
       "    </tr>\n",
       "  </thead>\n",
       "  <tbody>\n",
       "    <tr>\n",
       "      <th>0</th>\n",
       "      <td>Compound - binds - Gene</td>\n",
       "      <td>CbG</td>\n",
       "      <td>11571</td>\n",
       "      <td>1389</td>\n",
       "      <td>1689</td>\n",
       "      <td>0</td>\n",
       "    </tr>\n",
       "    <tr>\n",
       "      <th>1</th>\n",
       "      <td>Compound - downregulates - Gene</td>\n",
       "      <td>CdG</td>\n",
       "      <td>21421</td>\n",
       "      <td>734</td>\n",
       "      <td>2972</td>\n",
       "      <td>21421</td>\n",
       "    </tr>\n",
       "    <tr>\n",
       "      <th>2</th>\n",
       "      <td>Compound - palliates - Disease</td>\n",
       "      <td>CpD</td>\n",
       "      <td>0</td>\n",
       "      <td>0</td>\n",
       "      <td>0</td>\n",
       "      <td>0</td>\n",
       "    </tr>\n",
       "    <tr>\n",
       "      <th>3</th>\n",
       "      <td>Compound - resembles - Compound</td>\n",
       "      <td>CrC</td>\n",
       "      <td>6486</td>\n",
       "      <td>1042</td>\n",
       "      <td>1054</td>\n",
       "      <td>6486</td>\n",
       "    </tr>\n",
       "    <tr>\n",
       "      <th>4</th>\n",
       "      <td>Compound - treats - Disease</td>\n",
       "      <td>CtD</td>\n",
       "      <td>592</td>\n",
       "      <td>323</td>\n",
       "      <td>73</td>\n",
       "      <td>0</td>\n",
       "    </tr>\n",
       "    <tr>\n",
       "      <th>5</th>\n",
       "      <td>Compound - upregulates - Gene</td>\n",
       "      <td>CuG</td>\n",
       "      <td>19027</td>\n",
       "      <td>703</td>\n",
       "      <td>3348</td>\n",
       "      <td>19027</td>\n",
       "    </tr>\n",
       "    <tr>\n",
       "      <th>6</th>\n",
       "      <td>Disease - associates - Gene</td>\n",
       "      <td>DaG</td>\n",
       "      <td>12623</td>\n",
       "      <td>134</td>\n",
       "      <td>5392</td>\n",
       "      <td>1284</td>\n",
       "    </tr>\n",
       "    <tr>\n",
       "      <th>7</th>\n",
       "      <td>Disease - downregulates - Gene</td>\n",
       "      <td>DdG</td>\n",
       "      <td>9210</td>\n",
       "      <td>44</td>\n",
       "      <td>6651</td>\n",
       "      <td>9210</td>\n",
       "    </tr>\n",
       "    <tr>\n",
       "      <th>8</th>\n",
       "      <td>Disease - resembles - Disease</td>\n",
       "      <td>DrD</td>\n",
       "      <td>543</td>\n",
       "      <td>112</td>\n",
       "      <td>106</td>\n",
       "      <td>0</td>\n",
       "    </tr>\n",
       "    <tr>\n",
       "      <th>9</th>\n",
       "      <td>Disease - upregulates - Gene</td>\n",
       "      <td>DuG</td>\n",
       "      <td>9170</td>\n",
       "      <td>44</td>\n",
       "      <td>6356</td>\n",
       "      <td>9170</td>\n",
       "    </tr>\n",
       "  </tbody>\n",
       "</table>\n",
       "</div>"
      ],
      "text/plain": [
       "                          metaedge abbreviation  edges  source_nodes  \\\n",
       "0          Compound - binds - Gene          CbG  11571          1389   \n",
       "1  Compound - downregulates - Gene          CdG  21421           734   \n",
       "2   Compound - palliates - Disease          CpD      0             0   \n",
       "3  Compound - resembles - Compound          CrC   6486          1042   \n",
       "4      Compound - treats - Disease          CtD    592           323   \n",
       "5    Compound - upregulates - Gene          CuG  19027           703   \n",
       "6      Disease - associates - Gene          DaG  12623           134   \n",
       "7   Disease - downregulates - Gene          DdG   9210            44   \n",
       "8    Disease - resembles - Disease          DrD    543           112   \n",
       "9     Disease - upregulates - Gene          DuG   9170            44   \n",
       "\n",
       "   target_nodes  unbiased  \n",
       "0          1689         0  \n",
       "1          2972     21421  \n",
       "2             0         0  \n",
       "3          1054      6486  \n",
       "4            73         0  \n",
       "5          3348     19027  \n",
       "6          5392      1284  \n",
       "7          6651      9210  \n",
       "8           106         0  \n",
       "9          6356      9170  "
      ]
     },
     "execution_count": 40,
     "metadata": {},
     "output_type": "execute_result"
    }
   ],
   "source": [
    "# Summary of metaedges and cooresponding edges\n",
    "metaedge_df = hetio.stats.get_metaedge_df(graph)\n",
    "\n",
    "# Calculate number of unbiased edges\n",
    "rows = list()\n",
    "for metaedge, edges in graph.get_metaedge_to_edges(exclude_inverts=True).items():\n",
    "    unbiased = sum(edge.data['unbiased'] for edge in edges)\n",
    "    rows.append({'metaedge': str(metaedge), 'unbiased': unbiased})\n",
    "\n",
    "metaedge_df = metaedge_df.merge(pandas.DataFrame(rows))\n",
    "metaedge_df.to_csv('data/summary/metaedges.tsv', sep='\\t', index=False)\n",
    "metaedge_df"
   ]
  },
  {
   "cell_type": "code",
   "execution_count": 41,
   "metadata": {
    "collapsed": true
   },
   "outputs": [],
   "source": [
    "# Summary of different styles for representing each metaedge\n",
    "metaedge_style_df = hetio.stats.get_metaedge_style_df(metagraph)\n",
    "metaedge_style_df.to_csv('data/summary/metaedge-styles.tsv', sep='\\t', index=False)"
   ]
  },
  {
   "cell_type": "code",
   "execution_count": 42,
   "metadata": {
    "collapsed": false,
    "scrolled": true
   },
   "outputs": [
    {
     "data": {
      "text/plain": [
       "90643"
      ]
     },
     "execution_count": 42,
     "metadata": {},
     "output_type": "execute_result"
    }
   ],
   "source": [
    "# Number of edges in the network\n",
    "metaedge_df.edges.sum()"
   ]
  },
  {
   "cell_type": "markdown",
   "metadata": {
    "collapsed": true
   },
   "source": [
    "## Save graph"
   ]
  },
  {
   "cell_type": "code",
   "execution_count": 43,
   "metadata": {
    "collapsed": false
   },
   "outputs": [],
   "source": [
    "# Write nodes to a table\n",
    "path = 'data/nodes.tsv'\n",
    "hetio.readwrite.write_nodetable(graph, path)\n",
    "\n",
    "# Write edges to a table\n",
    "path = 'data/edges.sif.gz'\n",
    "hetio.readwrite.write_sif(graph, path)"
   ]
  },
  {
   "cell_type": "code",
   "execution_count": 44,
   "metadata": {
    "collapsed": true
   },
   "outputs": [],
   "source": [
    "# Write a subset of edges to a table\n",
    "path = 'data/edges-10.sif'\n",
    "hetio.readwrite.write_sif(graph, path, max_edges=10)\n",
    "\n",
    "path = 'data/edges-5k.sif.gz'\n",
    "hetio.readwrite.write_sif(graph, path, max_edges=5000)"
   ]
  },
  {
   "cell_type": "code",
   "execution_count": 45,
   "metadata": {
    "collapsed": true
   },
   "outputs": [],
   "source": [
    "# Write metagraph as json\n",
    "path = 'data/metagraph.json'\n",
    "hetio.readwrite.write_metagraph(metagraph, path)"
   ]
  },
  {
   "cell_type": "code",
   "execution_count": 46,
   "metadata": {
    "collapsed": false
   },
   "outputs": [],
   "source": [
    "# Write graph as json\n",
    "path = 'data/hetnet.json.bz2'\n",
    "hetio.readwrite.write_graph(graph, path)"
   ]
  },
  {
   "cell_type": "code",
   "execution_count": 47,
   "metadata": {
    "collapsed": false
   },
   "outputs": [
    {
     "name": "stdout",
     "output_type": "stream",
     "text": [
      "d064976ead685bc220db6067e915e289868a49bbb1ec50dfbf45399b651adf0a  data/hetnet.json.bz2\r\n"
     ]
    }
   ],
   "source": [
    "! sha256sum data/hetnet.json.bz2"
   ]
  },
  {
   "cell_type": "markdown",
   "metadata": {},
   "source": [
    "## Barplots of metaedge and metanode counts"
   ]
  },
  {
   "cell_type": "code",
   "execution_count": 48,
   "metadata": {
    "collapsed": true
   },
   "outputs": [],
   "source": [
    "%matplotlib inline"
   ]
  },
  {
   "cell_type": "code",
   "execution_count": 49,
   "metadata": {
    "collapsed": false
   },
   "outputs": [
    {
     "name": "stderr",
     "output_type": "stream",
     "text": [
      "/home/ubuntu/anaconda3/envs/integrate/lib/python3.5/site-packages/matplotlib/font_manager.py:1297: UserWarning: findfont: Font family ['sans-serif'] not found. Falling back to DejaVu Sans\n",
      "  (prop.get_family(), self.defaultFamily[fontext]))\n"
     ]
    },
    {
     "data": {
      "image/png": "[encoded data removed]",
      "text/plain": [
       "<matplotlib.figure.Figure at 0x7fca8e006320>"
      ]
     },
     "metadata": {},
     "output_type": "display_data"
    }
   ],
   "source": [
    "ax = seaborn.barplot(x='metanode', y='nodes', data=metanode_df.sort_values('nodes'))\n",
    "for tick in ax.get_xticklabels():\n",
    "    tick.set_rotation(90)\n",
    "ax.set_xlabel(''); ax.set_ylabel('nodes');"
   ]
  },
  {
   "cell_type": "code",
   "execution_count": 50,
   "metadata": {
    "collapsed": false
   },
   "outputs": [
    {
     "name": "stderr",
     "output_type": "stream",
     "text": [
      "/home/ubuntu/anaconda3/envs/integrate/lib/python3.5/site-packages/matplotlib/font_manager.py:1297: UserWarning: findfont: Font family ['sans-serif'] not found. Falling back to DejaVu Sans\n",
      "  (prop.get_family(), self.defaultFamily[fontext]))\n"
     ]
    },
    {
     "data": {
      "image/png": "[encoded data removed]",
      "text/plain": [
       "<matplotlib.figure.Figure at 0x7fca8e0248d0>"
      ]
     },
     "metadata": {},
     "output_type": "display_data"
    }
   ],
   "source": [
    "ax = seaborn.barplot(x='metaedge', y='edges', data=metaedge_df.sort_values('edges'))\n",
    "for tick in ax.get_xticklabels():\n",
    "    tick.set_rotation(90)\n",
    "ax.set_xlabel(''); ax.set_ylabel('edges');"
   ]
  }
 ],
 "metadata": {
  "kernelspec": {
   "display_name": "Python 3",
   "language": "python",
   "name": "python3"
  },
  "language_info": {
   "codemirror_mode": {
    "name": "ipython",
    "version": 3
   },
   "file_extension": ".py",
   "mimetype": "text/x-python",
   "name": "python",
   "nbconvert_exporter": "python",
   "pygments_lexer": "ipython3",
   "version": "3.5.2"
  }
 },
 "nbformat": 4,
 "nbformat_minor": 0
}
